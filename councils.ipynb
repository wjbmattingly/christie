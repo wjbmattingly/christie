{
 "cells": [
  {
   "cell_type": "code",
   "execution_count": 1,
   "id": "brilliant-maintenance",
   "metadata": {},
   "outputs": [],
   "source": [
    "import networkx as nx\n",
    "import matplotlib.pyplot as plt\n",
    "%matplotlib inline\n",
    "from matplotlib.pyplot import figure, text\n",
    "from pyvis.network import Network\n",
    "import pandas as pd"
   ]
  },
  {
   "cell_type": "code",
   "execution_count": 2,
   "id": "broad-patient",
   "metadata": {},
   "outputs": [],
   "source": [
    "df = pd.read_csv(\"data/council_data_new.csv\")"
   ]
  },
  {
   "cell_type": "code",
   "execution_count": 3,
   "id": "engaging-freedom",
   "metadata": {},
   "outputs": [
    {
     "data": {
      "text/html": [
       "<div>\n",
       "<style scoped>\n",
       "    .dataframe tbody tr th:only-of-type {\n",
       "        vertical-align: middle;\n",
       "    }\n",
       "\n",
       "    .dataframe tbody tr th {\n",
       "        vertical-align: top;\n",
       "    }\n",
       "\n",
       "    .dataframe thead th {\n",
       "        text-align: right;\n",
       "    }\n",
       "</style>\n",
       "<table border=\"1\" class=\"dataframe\">\n",
       "  <thead>\n",
       "    <tr style=\"text-align: right;\">\n",
       "      <th></th>\n",
       "      <th>council</th>\n",
       "      <th>person</th>\n",
       "    </tr>\n",
       "  </thead>\n",
       "  <tbody>\n",
       "    <tr>\n",
       "      <th>0</th>\n",
       "      <td>390Carth</td>\n",
       "      <td>GenethliusCarthaginensis</td>\n",
       "    </tr>\n",
       "    <tr>\n",
       "      <th>1</th>\n",
       "      <td>390Carth</td>\n",
       "      <td>VictorAbziritanus</td>\n",
       "    </tr>\n",
       "    <tr>\n",
       "      <th>2</th>\n",
       "      <td>390Carth</td>\n",
       "      <td>VictorPuppianensis</td>\n",
       "    </tr>\n",
       "    <tr>\n",
       "      <th>3</th>\n",
       "      <td>390Carth</td>\n",
       "      <td>EpigoniusBullensiumregiorum</td>\n",
       "    </tr>\n",
       "    <tr>\n",
       "      <th>4</th>\n",
       "      <td>390Carth</td>\n",
       "      <td>NumidiusMaxulitanus</td>\n",
       "    </tr>\n",
       "    <tr>\n",
       "      <th>...</th>\n",
       "      <td>...</td>\n",
       "      <td>...</td>\n",
       "    </tr>\n",
       "    <tr>\n",
       "      <th>299</th>\n",
       "      <td>418Carth</td>\n",
       "      <td>SeuerianusMauritaniaeSitifensis</td>\n",
       "    </tr>\n",
       "    <tr>\n",
       "      <th>300</th>\n",
       "      <td>418Carth</td>\n",
       "      <td>AsiaticusMauritaniaeSitifensis</td>\n",
       "    </tr>\n",
       "    <tr>\n",
       "      <th>301</th>\n",
       "      <td>418Carth</td>\n",
       "      <td>DonatusMauritaniaeSitifensis</td>\n",
       "    </tr>\n",
       "    <tr>\n",
       "      <th>302</th>\n",
       "      <td>418Carth</td>\n",
       "      <td>PlautiusTripolitaniae</td>\n",
       "    </tr>\n",
       "    <tr>\n",
       "      <th>303</th>\n",
       "      <td>418Carth</td>\n",
       "      <td>DonatianusTheleptensis</td>\n",
       "    </tr>\n",
       "  </tbody>\n",
       "</table>\n",
       "<p>304 rows × 2 columns</p>\n",
       "</div>"
      ],
      "text/plain": [
       "      council                           person\n",
       "0    390Carth         GenethliusCarthaginensis\n",
       "1    390Carth                VictorAbziritanus\n",
       "2    390Carth               VictorPuppianensis\n",
       "3    390Carth      EpigoniusBullensiumregiorum\n",
       "4    390Carth              NumidiusMaxulitanus\n",
       "..        ...                              ...\n",
       "299  418Carth  SeuerianusMauritaniaeSitifensis\n",
       "300  418Carth   AsiaticusMauritaniaeSitifensis\n",
       "301  418Carth     DonatusMauritaniaeSitifensis\n",
       "302  418Carth            PlautiusTripolitaniae\n",
       "303  418Carth           DonatianusTheleptensis\n",
       "\n",
       "[304 rows x 2 columns]"
      ]
     },
     "execution_count": 3,
     "metadata": {},
     "output_type": "execute_result"
    }
   ],
   "source": [
    "df"
   ]
  },
  {
   "cell_type": "code",
   "execution_count": 4,
   "id": "suitable-envelope",
   "metadata": {},
   "outputs": [],
   "source": [
    "G = nx.Graph()"
   ]
  },
  {
   "cell_type": "code",
   "execution_count": 5,
   "id": "miniature-seattle",
   "metadata": {},
   "outputs": [],
   "source": [
    "df1 = df[['council', 'person']]"
   ]
  },
  {
   "cell_type": "code",
   "execution_count": 6,
   "id": "regular-tsunami",
   "metadata": {},
   "outputs": [],
   "source": [
    "G = nx.from_pandas_edgelist(df1, 'council', 'person')"
   ]
  },
  {
   "cell_type": "code",
   "execution_count": 7,
   "id": "computational-milwaukee",
   "metadata": {},
   "outputs": [],
   "source": [
    "color_map = []\n",
    "\n",
    "for node in G:\n",
    "    if node in df[\"council\"].values:\n",
    "        color_map.append(\"coral\")\n",
    "    else:\n",
    "        color_map.append(\"darkseagreen\")"
   ]
  },
  {
   "cell_type": "code",
   "execution_count": 8,
   "id": "critical-pledge",
   "metadata": {},
   "outputs": [],
   "source": [
    "d = nx.degree(G)\n",
    "d = [(d[node]+1) * 40 for node in G.nodes()]"
   ]
  },
  {
   "cell_type": "code",
   "execution_count": 9,
   "id": "popular-scheme",
   "metadata": {},
   "outputs": [],
   "source": [
    "import math\n",
    "pos = nx.spring_layout(G, k=10/math.sqrt(G.order()))"
   ]
  },
  {
   "cell_type": "code",
   "execution_count": 10,
   "id": "handled-nightmare",
   "metadata": {},
   "outputs": [
    {
     "data": {
      "image/png": "[encoded data removed]",
      "text/plain": [
       "<Figure size 1440x1440 with 1 Axes>"
      ]
     },
     "metadata": {},
     "output_type": "display_data"
    }
   ],
   "source": [
    "from matplotlib.pyplot import figure\n",
    "f = figure(figsize=(20, 20))\n",
    "nx.draw_networkx(G,  node_color=color_map, with_labels=True, node_size=d, font_size=8)\n",
    "f.savefig(\"graph.png\")"
   ]
  },
  {
   "cell_type": "code",
   "execution_count": 11,
   "id": "recreational-majority",
   "metadata": {},
   "outputs": [
    {
     "data": {
      "text/html": [
       "<div>\n",
       "<style scoped>\n",
       "    .dataframe tbody tr th:only-of-type {\n",
       "        vertical-align: middle;\n",
       "    }\n",
       "\n",
       "    .dataframe tbody tr th {\n",
       "        vertical-align: top;\n",
       "    }\n",
       "\n",
       "    .dataframe thead th {\n",
       "        text-align: right;\n",
       "    }\n",
       "</style>\n",
       "<table border=\"1\" class=\"dataframe\">\n",
       "  <thead>\n",
       "    <tr style=\"text-align: right;\">\n",
       "      <th></th>\n",
       "      <th>council</th>\n",
       "      <th>person</th>\n",
       "    </tr>\n",
       "  </thead>\n",
       "  <tbody>\n",
       "    <tr>\n",
       "      <th>0</th>\n",
       "      <td>390Carth</td>\n",
       "      <td>GenethliusCarthaginensis</td>\n",
       "    </tr>\n",
       "    <tr>\n",
       "      <th>1</th>\n",
       "      <td>390Carth</td>\n",
       "      <td>VictorAbziritanus</td>\n",
       "    </tr>\n",
       "    <tr>\n",
       "      <th>2</th>\n",
       "      <td>390Carth</td>\n",
       "      <td>VictorPuppianensis</td>\n",
       "    </tr>\n",
       "    <tr>\n",
       "      <th>3</th>\n",
       "      <td>390Carth</td>\n",
       "      <td>EpigoniusBullensiumregiorum</td>\n",
       "    </tr>\n",
       "    <tr>\n",
       "      <th>4</th>\n",
       "      <td>390Carth</td>\n",
       "      <td>NumidiusMaxulitanus</td>\n",
       "    </tr>\n",
       "    <tr>\n",
       "      <th>...</th>\n",
       "      <td>...</td>\n",
       "      <td>...</td>\n",
       "    </tr>\n",
       "    <tr>\n",
       "      <th>299</th>\n",
       "      <td>418Carth</td>\n",
       "      <td>SeuerianusMauritaniaeSitifensis</td>\n",
       "    </tr>\n",
       "    <tr>\n",
       "      <th>300</th>\n",
       "      <td>418Carth</td>\n",
       "      <td>AsiaticusMauritaniaeSitifensis</td>\n",
       "    </tr>\n",
       "    <tr>\n",
       "      <th>301</th>\n",
       "      <td>418Carth</td>\n",
       "      <td>DonatusMauritaniaeSitifensis</td>\n",
       "    </tr>\n",
       "    <tr>\n",
       "      <th>302</th>\n",
       "      <td>418Carth</td>\n",
       "      <td>PlautiusTripolitaniae</td>\n",
       "    </tr>\n",
       "    <tr>\n",
       "      <th>303</th>\n",
       "      <td>418Carth</td>\n",
       "      <td>DonatianusTheleptensis</td>\n",
       "    </tr>\n",
       "  </tbody>\n",
       "</table>\n",
       "<p>304 rows × 2 columns</p>\n",
       "</div>"
      ],
      "text/plain": [
       "      council                           person\n",
       "0    390Carth         GenethliusCarthaginensis\n",
       "1    390Carth                VictorAbziritanus\n",
       "2    390Carth               VictorPuppianensis\n",
       "3    390Carth      EpigoniusBullensiumregiorum\n",
       "4    390Carth              NumidiusMaxulitanus\n",
       "..        ...                              ...\n",
       "299  418Carth  SeuerianusMauritaniaeSitifensis\n",
       "300  418Carth   AsiaticusMauritaniaeSitifensis\n",
       "301  418Carth     DonatusMauritaniaeSitifensis\n",
       "302  418Carth            PlautiusTripolitaniae\n",
       "303  418Carth           DonatianusTheleptensis\n",
       "\n",
       "[304 rows x 2 columns]"
      ]
     },
     "execution_count": 11,
     "metadata": {},
     "output_type": "execute_result"
    }
   ],
   "source": [
    "df"
   ]
  },
  {
   "cell_type": "code",
   "execution_count": 12,
   "id": "ambient-evidence",
   "metadata": {},
   "outputs": [],
   "source": [
    "councils = df[\"council\"].values.tolist()"
   ]
  },
  {
   "cell_type": "code",
   "execution_count": 13,
   "id": "processed-decimal",
   "metadata": {},
   "outputs": [],
   "source": [
    "councils = list(set(councils))"
   ]
  },
  {
   "cell_type": "code",
   "execution_count": 14,
   "id": "wanted-assist",
   "metadata": {},
   "outputs": [],
   "source": [
    "# councils"
   ]
  },
  {
   "cell_type": "code",
   "execution_count": 15,
   "id": "indian-compatibility",
   "metadata": {},
   "outputs": [],
   "source": [
    "all_data  = {}\n",
    "for item in councils:\n",
    "    all_data[item] = []"
   ]
  },
  {
   "cell_type": "code",
   "execution_count": 72,
   "id": "handmade-future",
   "metadata": {},
   "outputs": [
    {
     "data": {
      "text/plain": [
       "['DonatianusTheleptensis',\n",
       " 'IanuarianusTubulbacensis',\n",
       " 'FelixSegermitensis',\n",
       " 'SecundusByzacenae',\n",
       " 'CyriusProconsularis',\n",
       " 'VictorBahannensis',\n",
       " 'SecundianusByzacenae',\n",
       " 'GetaIubaltianensis',\n",
       " 'EunomiusMarazanensis',\n",
       " 'MaximianusByzacenae',\n",
       " 'DonatusByzacenae',\n",
       " 'CresconiusTemonianensis',\n",
       " 'IucundusSufetulensis',\n",
       " 'SopaterByzacenae',\n",
       " 'RestitutusMuzucensis',\n",
       " 'IulianusTasbaltensis',\n",
       " 'MaximinusSufetanus',\n",
       " 'RomanusLeptiminensis',\n",
       " 'TertiolusByzacenae',\n",
       " 'MilicusTagamutesis',\n",
       " 'MaximusByzacenae',\n",
       " 'DonatianusZellensis',\n",
       " 'BasiliusAltiburitanus',\n",
       " 'PampinianusVitensis',\n",
       " 'IanuarianusCenculianensis',\n",
       " 'PorphyriusByzacenae',\n",
       " 'PorphyriusByzacenae2',\n",
       " 'DonatusByzacenae2',\n",
       " 'IulianusTasbaltensis',\n",
       " 'TutusByzacenae',\n",
       " 'FortuniusByzacenae',\n",
       " 'QuintianusByzacenae',\n",
       " 'CapioByzacenae',\n",
       " 'VincentiusCulusitanus',\n",
       " 'FortunatianusNeapolitanus']"
      ]
     },
     "execution_count": 72,
     "metadata": {},
     "output_type": "execute_result"
    }
   ],
   "source": [
    "all_data[\"418Thel\"]"
   ]
  },
  {
   "cell_type": "code",
   "execution_count": 17,
   "id": "handmade-extension",
   "metadata": {},
   "outputs": [],
   "source": [
    "for index, row in df.iterrows():\n",
    "    all_data[row['council']].append(row['person'])"
   ]
  },
  {
   "cell_type": "code",
   "execution_count": 18,
   "id": "invalid-japanese",
   "metadata": {},
   "outputs": [],
   "source": [
    "people = df[\"person\"].values.tolist()\n",
    "people = list(set(people))"
   ]
  },
  {
   "cell_type": "code",
   "execution_count": 19,
   "id": "consolidated-burden",
   "metadata": {},
   "outputs": [],
   "source": [
    "# people"
   ]
  },
  {
   "cell_type": "code",
   "execution_count": 20,
   "id": "younger-tours",
   "metadata": {},
   "outputs": [],
   "source": [
    "person_data = {}\n",
    "for item in people:\n",
    "    person_data[item] = []"
   ]
  },
  {
   "cell_type": "code",
   "execution_count": 21,
   "id": "destroyed-requirement",
   "metadata": {},
   "outputs": [],
   "source": [
    "# person_data"
   ]
  },
  {
   "cell_type": "code",
   "execution_count": 22,
   "id": "compressed-company",
   "metadata": {},
   "outputs": [],
   "source": [
    "for index, row in df.iterrows():\n",
    "    person_data[row['person']].append(row['council'])"
   ]
  },
  {
   "cell_type": "code",
   "execution_count": 71,
   "id": "finite-thomson",
   "metadata": {},
   "outputs": [
    {
     "data": {
      "text/plain": [
       "['418Thel', 'IgnByz']"
      ]
     },
     "execution_count": 71,
     "metadata": {},
     "output_type": "execute_result"
    }
   ],
   "source": [
    "person_data[\"TertiolusByzacenae\"]"
   ]
  },
  {
   "cell_type": "code",
   "execution_count": 24,
   "id": "amazing-champion",
   "metadata": {},
   "outputs": [
    {
     "data": {
      "text/plain": [
       "['403Carth',\n",
       " '419Carth',\n",
       " '393Hippo',\n",
       " '408CarthOct',\n",
       " '401CarthSept',\n",
       " '427Hippo',\n",
       " '399Carth',\n",
       " '418Thel',\n",
       " 'IgnByz',\n",
       " '418Carth',\n",
       " '410Carth',\n",
       " '424Carth',\n",
       " '401CarthJun',\n",
       " '397Carth',\n",
       " '397Carth2',\n",
       " '407Carth',\n",
       " '404Carth',\n",
       " '402Mil',\n",
       " '408CarthJun',\n",
       " '390Carth',\n",
       " 'Carth4']"
      ]
     },
     "execution_count": 24,
     "metadata": {},
     "output_type": "execute_result"
    }
   ],
   "source": [
    "councils"
   ]
  },
  {
   "cell_type": "code",
   "execution_count": 25,
   "id": "auburn-grave",
   "metadata": {},
   "outputs": [],
   "source": [
    "# people"
   ]
  },
  {
   "cell_type": "code",
   "execution_count": 26,
   "id": "intended-miracle",
   "metadata": {},
   "outputs": [],
   "source": [
    "new_people = [\"councils\"]+people\n",
    "new_df = pd.DataFrame(columns=new_people)"
   ]
  },
  {
   "cell_type": "code",
   "execution_count": 27,
   "id": "hired-viking",
   "metadata": {},
   "outputs": [
    {
     "data": {
      "text/html": [
       "<div>\n",
       "<style scoped>\n",
       "    .dataframe tbody tr th:only-of-type {\n",
       "        vertical-align: middle;\n",
       "    }\n",
       "\n",
       "    .dataframe tbody tr th {\n",
       "        vertical-align: top;\n",
       "    }\n",
       "\n",
       "    .dataframe thead th {\n",
       "        text-align: right;\n",
       "    }\n",
       "</style>\n",
       "<table border=\"1\" class=\"dataframe\">\n",
       "  <thead>\n",
       "    <tr style=\"text-align: right;\">\n",
       "      <th></th>\n",
       "      <th>councils</th>\n",
       "      <th>MaximianusByzacenae</th>\n",
       "      <th>TheasiusMemblonitanus</th>\n",
       "      <th>ValentinusBaianensis</th>\n",
       "      <th>IanuariusTurusudensis</th>\n",
       "      <th>RufinianusMuzucensis</th>\n",
       "      <th>AemilianusAraditanus</th>\n",
       "      <th>AntorusIgnoti</th>\n",
       "      <th>SeruusdeiTubursicuburensis</th>\n",
       "      <th>GenethliusCarthaginensis</th>\n",
       "      <th>...</th>\n",
       "      <th>LaurentiusIcositanus</th>\n",
       "      <th>DonatusIgnoti2</th>\n",
       "      <th>FortunatusNumidiae</th>\n",
       "      <th>SecundusIgnoti</th>\n",
       "      <th>QuoduultdeusCenturiensis</th>\n",
       "      <th>IanuariusIgnoti</th>\n",
       "      <th>SimpliciusIgnoti</th>\n",
       "      <th>TutusByzacenae</th>\n",
       "      <th>VincentiusCulusitanus</th>\n",
       "      <th>PlacianusIgnoti</th>\n",
       "    </tr>\n",
       "  </thead>\n",
       "  <tbody>\n",
       "  </tbody>\n",
       "</table>\n",
       "<p>0 rows × 148 columns</p>\n",
       "</div>"
      ],
      "text/plain": [
       "Empty DataFrame\n",
       "Columns: [councils, MaximianusByzacenae, TheasiusMemblonitanus, ValentinusBaianensis, IanuariusTurusudensis, RufinianusMuzucensis, AemilianusAraditanus, AntorusIgnoti, SeruusdeiTubursicuburensis, GenethliusCarthaginensis, AmpeliusVagensis, QuintianusByzacenae, DatianusNumidiae, ReginusVegeselitanus, EunomiusMarazanensis, LeoMoptensis, IucundusSufetulensis, HonoratusMauretaniaeSitifensis, AugustinusHipponensis, MegaliusCalamensis, VictorAbziritanus, LucianusGuirensis, PalatinusBosetensis, UrbanusProconsularis, EpigoniusBullensiumregiorum, FortuniusByzacenae, RestitutusIgnoti, PascasiusAnguiensis, HonoratusAuiddensis, DonatusByzacenae, BonifatiusIgnoti2, FortunatusIgnoti, IanuarianusTubulbacensis, MaurentiusThubursicensis, IanuarianusCenculianensis, TerentiusSeleucianensis, FelixSelemselitanus, RestitutusNouasinnensis, FeroxMacrianensis, CapioByzacenae, BasiliusAltiburitanus, NouatusMauritaniaeSitifensis, VitalisIgnoti, DonatianusZellensis, FelixSegermitensis, PentadiusCarpitanus, NumerianusRusguniensis, SopaterByzacenae, TheodorusIgnoti, CaecilianusIgnoti, MaximusIgnoti, QuoduultdeusUcrensis, AntoniusCarpitanus, HonoratusMatharensis, XantippusNumidiae, MarianusTulliensis, SamsuciusTurrensis, IulianusTasbaltensis, OptatusIgnoti, ComitiusMacotanae, DonatianusTheleptensis, MaximianusAquensiumRegiorum, PlacentinusMadaurensis, FlorentiusHipponensiumDiarrhytorum, VictorBahannensis, SecundianusByzacenae, HilarianusHorreocaeliensis, DonatusIgnoti, ValeriusIgnoti, BonifatiusIgnoti, ValentinusNumidiae, FaustinusPotentinus, GallonianusUtinensis, PlautiusTripolitaniae, MaternusIgnoti, CresconiusVilleregiensis, VictorIgnoti2, VictorianusMasclianensis, ClarusProconsularis, NinusIubaltianensis, ReginusIgnoti, MaximusByzacenae, CandidusAbbiritanusGermanicianorum, RestitutusTagorensis, EuodiusUzalensis, TutusMigirpensis, MaximinusSufetanus, AlypiusThagastensis, HonoratusIgnoti, NumidiusMaxulitanus, MilicusTagamutesis, AdeodatusSimidiccensis, VenustianusByzacenae, LupianusTambeitanus, RestitutusSalulitanus, CelticiusIgnoti, DonatusByzacenae2, FelicianusCufrutensis, TutusIgnoti, FortunatianusNeapolitanus, ...]\n",
       "Index: []\n",
       "\n",
       "[0 rows x 148 columns]"
      ]
     },
     "execution_count": 27,
     "metadata": {},
     "output_type": "execute_result"
    }
   ],
   "source": [
    "new_df"
   ]
  },
  {
   "cell_type": "code",
   "execution_count": 28,
   "id": "absolute-nursery",
   "metadata": {},
   "outputs": [],
   "source": [
    "everything = {}\n",
    "everything2 = []\n",
    "for council in councils:\n",
    "    temp = [council]\n",
    "    temp2 = {\"councils\": council}\n",
    "    for person in people:\n",
    "        if person in all_data[council]:\n",
    "            temp.append(1)\n",
    "            temp2[person] = 1\n",
    "        else:\n",
    "            temp.append(0)\n",
    "            temp2[person] = 0\n",
    "    everything[council] = temp\n",
    "    everything2.append(temp2)"
   ]
  },
  {
   "cell_type": "code",
   "execution_count": 29,
   "id": "chronic-hundred",
   "metadata": {},
   "outputs": [
    {
     "name": "stdout",
     "output_type": "stream",
     "text": [
      "{'councils': '403Carth', 'MaximianusByzacenae': 0, 'TheasiusMemblonitanus': 0, 'ValentinusBaianensis': 0, 'IanuariusTurusudensis': 0, 'RufinianusMuzucensis': 0, 'AemilianusAraditanus': 0, 'AntorusIgnoti': 0, 'SeruusdeiTubursicuburensis': 0, 'GenethliusCarthaginensis': 0, 'AmpeliusVagensis': 0, 'QuintianusByzacenae': 0, 'DatianusNumidiae': 0, 'ReginusVegeselitanus': 0, 'EunomiusMarazanensis': 0, 'LeoMoptensis': 0, 'IucundusSufetulensis': 0, 'HonoratusMauretaniaeSitifensis': 0, 'AugustinusHipponensis': 1, 'MegaliusCalamensis': 0, 'VictorAbziritanus': 0, 'LucianusGuirensis': 1, 'PalatinusBosetensis': 0, 'UrbanusProconsularis': 0, 'EpigoniusBullensiumregiorum': 0, 'FortuniusByzacenae': 0, 'RestitutusIgnoti': 0, 'PascasiusAnguiensis': 0, 'HonoratusAuiddensis': 0, 'DonatusByzacenae': 0, 'BonifatiusIgnoti2': 0, 'FortunatusIgnoti': 0, 'IanuarianusTubulbacensis': 0, 'MaurentiusThubursicensis': 0, 'IanuarianusCenculianensis': 0, 'TerentiusSeleucianensis': 0, 'FelixSelemselitanus': 0, 'RestitutusNouasinnensis': 0, 'FeroxMacrianensis': 0, 'CapioByzacenae': 0, 'BasiliusAltiburitanus': 0, 'NouatusMauritaniaeSitifensis': 0, 'VitalisIgnoti': 0, 'DonatianusZellensis': 0, 'FelixSegermitensis': 0, 'PentadiusCarpitanus': 0, 'NumerianusRusguniensis': 0, 'SopaterByzacenae': 0, 'TheodorusIgnoti': 0, 'CaecilianusIgnoti': 0, 'MaximusIgnoti': 0, 'QuoduultdeusUcrensis': 0, 'AntoniusCarpitanus': 0, 'HonoratusMatharensis': 0, 'XantippusNumidiae': 0, 'MarianusTulliensis': 0, 'SamsuciusTurrensis': 0, 'IulianusTasbaltensis': 0, 'OptatusIgnoti': 0, 'ComitiusMacotanae': 0, 'DonatianusTheleptensis': 0, 'MaximianusAquensiumRegiorum': 0, 'PlacentinusMadaurensis': 0, 'FlorentiusHipponensiumDiarrhytorum': 0, 'VictorBahannensis': 0, 'SecundianusByzacenae': 0, 'HilarianusHorreocaeliensis': 0, 'DonatusIgnoti': 0, 'ValeriusIgnoti': 0, 'BonifatiusIgnoti': 0, 'ValentinusNumidiae': 0, 'FaustinusPotentinus': 0, 'GallonianusUtinensis': 0, 'PlautiusTripolitaniae': 0, 'MaternusIgnoti': 0, 'CresconiusVilleregiensis': 0, 'VictorIgnoti2': 0, 'VictorianusMasclianensis': 0, 'ClarusProconsularis': 0, 'NinusIubaltianensis': 0, 'ReginusIgnoti': 0, 'MaximusByzacenae': 0, 'CandidusAbbiritanusGermanicianorum': 0, 'RestitutusTagorensis': 0, 'EuodiusUzalensis': 0, 'TutusMigirpensis': 0, 'MaximinusSufetanus': 0, 'AlypiusThagastensis': 1, 'HonoratusIgnoti': 0, 'NumidiusMaxulitanus': 0, 'MilicusTagamutesis': 0, 'AdeodatusSimidiccensis': 0, 'VenustianusByzacenae': 1, 'LupianusTambeitanus': 0, 'RestitutusSalulitanus': 0, 'CelticiusIgnoti': 0, 'DonatusByzacenae2': 0, 'FelicianusCufrutensis': 1, 'TutusIgnoti': 0, 'FortunatianusNeapolitanus': 0, 'AsiaticusMauritaniaeSitifensis': 0, 'PhilologiusAdrumetinus': 1, 'DonatusIgnoti3': 0, 'RogatianusTigimensis': 0, 'VictorIgnoti1': 0, 'PraetextatusSicilibbensis': 0, 'SiluanusPerdicensis': 1, 'AmbiuiusPisitensis': 0, 'PorphyriusByzacenae2': 0, 'PorphyriusByzacenae': 0, 'CresconiusTemonianensis': 0, 'UrbanusMauretaniaeSitifensis': 0, 'VictorPuppianensis': 0, 'AureliusCarthaginensis': 1, 'PampinianusVitensis': 0, 'RestitutusMuzucensis': 0, 'FelixVisicensis': 0, 'VictorIgnoti3': 0, 'BenenatusSimittensis': 0, 'CyriusProconsularis': 0, 'PostumianusThagorensis': 0, 'TertiolusByzacenae': 0, 'SecundusByzacenae': 0, 'EuangelusAssuritanus': 0, 'PossidiusCalamensis': 1, 'DonatusMauritaniaeSitifensis': 0, 'SeuerianusMauritaniaeSitifensis': 0, 'MizoniusByzacenae': 0, 'AptusTigiensis': 0, 'NicetiusMauritaniaeSitifensis': 0, 'NinellusRusuccurrensis': 0, 'PraesidiusIgnoti': 0, 'RusticianusThabracensis': 0, 'GetaIubaltianensis': 1, 'LeoSitifensis': 0, 'ElesiusIgnoti': 0, 'MarianusUzipparitanus': 0, 'RomanusLeptiminensis': 0, 'LaurentiusIcositanus': 0, 'DonatusIgnoti2': 0, 'FortunatusNumidiae': 0, 'SecundusIgnoti': 0, 'QuoduultdeusCenturiensis': 0, 'IanuariusIgnoti': 0, 'SimpliciusIgnoti': 0, 'TutusByzacenae': 0, 'VincentiusCulusitanus': 0, 'PlacianusIgnoti': 0}\n"
     ]
    }
   ],
   "source": [
    "print (everything2[0])"
   ]
  },
  {
   "cell_type": "code",
   "execution_count": 30,
   "id": "horizontal-madison",
   "metadata": {},
   "outputs": [
    {
     "name": "stdout",
     "output_type": "stream",
     "text": [
      "21\n"
     ]
    },
    {
     "data": {
      "text/html": [
       "<div>\n",
       "<style scoped>\n",
       "    .dataframe tbody tr th:only-of-type {\n",
       "        vertical-align: middle;\n",
       "    }\n",
       "\n",
       "    .dataframe tbody tr th {\n",
       "        vertical-align: top;\n",
       "    }\n",
       "\n",
       "    .dataframe thead th {\n",
       "        text-align: right;\n",
       "    }\n",
       "</style>\n",
       "<table border=\"1\" class=\"dataframe\">\n",
       "  <thead>\n",
       "    <tr style=\"text-align: right;\">\n",
       "      <th></th>\n",
       "      <th>councils</th>\n",
       "      <th>MaximianusByzacenae</th>\n",
       "      <th>TheasiusMemblonitanus</th>\n",
       "      <th>ValentinusBaianensis</th>\n",
       "      <th>IanuariusTurusudensis</th>\n",
       "      <th>RufinianusMuzucensis</th>\n",
       "      <th>AemilianusAraditanus</th>\n",
       "      <th>AntorusIgnoti</th>\n",
       "      <th>SeruusdeiTubursicuburensis</th>\n",
       "      <th>GenethliusCarthaginensis</th>\n",
       "      <th>...</th>\n",
       "      <th>LaurentiusIcositanus</th>\n",
       "      <th>DonatusIgnoti2</th>\n",
       "      <th>FortunatusNumidiae</th>\n",
       "      <th>SecundusIgnoti</th>\n",
       "      <th>QuoduultdeusCenturiensis</th>\n",
       "      <th>IanuariusIgnoti</th>\n",
       "      <th>SimpliciusIgnoti</th>\n",
       "      <th>TutusByzacenae</th>\n",
       "      <th>VincentiusCulusitanus</th>\n",
       "      <th>PlacianusIgnoti</th>\n",
       "    </tr>\n",
       "  </thead>\n",
       "  <tbody>\n",
       "    <tr>\n",
       "      <th>0</th>\n",
       "      <td>403Carth</td>\n",
       "      <td>0</td>\n",
       "      <td>0</td>\n",
       "      <td>0</td>\n",
       "      <td>0</td>\n",
       "      <td>0</td>\n",
       "      <td>0</td>\n",
       "      <td>0</td>\n",
       "      <td>0</td>\n",
       "      <td>0</td>\n",
       "      <td>...</td>\n",
       "      <td>0</td>\n",
       "      <td>0</td>\n",
       "      <td>0</td>\n",
       "      <td>0</td>\n",
       "      <td>0</td>\n",
       "      <td>0</td>\n",
       "      <td>0</td>\n",
       "      <td>0</td>\n",
       "      <td>0</td>\n",
       "      <td>0</td>\n",
       "    </tr>\n",
       "    <tr>\n",
       "      <th>1</th>\n",
       "      <td>419Carth</td>\n",
       "      <td>0</td>\n",
       "      <td>0</td>\n",
       "      <td>0</td>\n",
       "      <td>0</td>\n",
       "      <td>1</td>\n",
       "      <td>0</td>\n",
       "      <td>0</td>\n",
       "      <td>0</td>\n",
       "      <td>0</td>\n",
       "      <td>...</td>\n",
       "      <td>1</td>\n",
       "      <td>0</td>\n",
       "      <td>0</td>\n",
       "      <td>0</td>\n",
       "      <td>0</td>\n",
       "      <td>0</td>\n",
       "      <td>0</td>\n",
       "      <td>0</td>\n",
       "      <td>1</td>\n",
       "      <td>0</td>\n",
       "    </tr>\n",
       "    <tr>\n",
       "      <th>2</th>\n",
       "      <td>393Hippo</td>\n",
       "      <td>0</td>\n",
       "      <td>0</td>\n",
       "      <td>0</td>\n",
       "      <td>0</td>\n",
       "      <td>0</td>\n",
       "      <td>0</td>\n",
       "      <td>0</td>\n",
       "      <td>0</td>\n",
       "      <td>0</td>\n",
       "      <td>...</td>\n",
       "      <td>0</td>\n",
       "      <td>0</td>\n",
       "      <td>0</td>\n",
       "      <td>0</td>\n",
       "      <td>0</td>\n",
       "      <td>0</td>\n",
       "      <td>0</td>\n",
       "      <td>0</td>\n",
       "      <td>0</td>\n",
       "      <td>0</td>\n",
       "    </tr>\n",
       "    <tr>\n",
       "      <th>3</th>\n",
       "      <td>408CarthOct</td>\n",
       "      <td>0</td>\n",
       "      <td>0</td>\n",
       "      <td>0</td>\n",
       "      <td>0</td>\n",
       "      <td>0</td>\n",
       "      <td>0</td>\n",
       "      <td>0</td>\n",
       "      <td>0</td>\n",
       "      <td>0</td>\n",
       "      <td>...</td>\n",
       "      <td>0</td>\n",
       "      <td>0</td>\n",
       "      <td>0</td>\n",
       "      <td>0</td>\n",
       "      <td>0</td>\n",
       "      <td>0</td>\n",
       "      <td>0</td>\n",
       "      <td>0</td>\n",
       "      <td>0</td>\n",
       "      <td>0</td>\n",
       "    </tr>\n",
       "    <tr>\n",
       "      <th>4</th>\n",
       "      <td>401CarthSept</td>\n",
       "      <td>0</td>\n",
       "      <td>1</td>\n",
       "      <td>0</td>\n",
       "      <td>1</td>\n",
       "      <td>0</td>\n",
       "      <td>0</td>\n",
       "      <td>0</td>\n",
       "      <td>0</td>\n",
       "      <td>0</td>\n",
       "      <td>...</td>\n",
       "      <td>0</td>\n",
       "      <td>0</td>\n",
       "      <td>1</td>\n",
       "      <td>0</td>\n",
       "      <td>1</td>\n",
       "      <td>0</td>\n",
       "      <td>0</td>\n",
       "      <td>0</td>\n",
       "      <td>0</td>\n",
       "      <td>1</td>\n",
       "    </tr>\n",
       "    <tr>\n",
       "      <th>5</th>\n",
       "      <td>427Hippo</td>\n",
       "      <td>0</td>\n",
       "      <td>0</td>\n",
       "      <td>0</td>\n",
       "      <td>0</td>\n",
       "      <td>0</td>\n",
       "      <td>0</td>\n",
       "      <td>0</td>\n",
       "      <td>0</td>\n",
       "      <td>0</td>\n",
       "      <td>...</td>\n",
       "      <td>0</td>\n",
       "      <td>0</td>\n",
       "      <td>0</td>\n",
       "      <td>0</td>\n",
       "      <td>0</td>\n",
       "      <td>0</td>\n",
       "      <td>1</td>\n",
       "      <td>0</td>\n",
       "      <td>0</td>\n",
       "      <td>0</td>\n",
       "    </tr>\n",
       "    <tr>\n",
       "      <th>6</th>\n",
       "      <td>399Carth</td>\n",
       "      <td>0</td>\n",
       "      <td>0</td>\n",
       "      <td>0</td>\n",
       "      <td>0</td>\n",
       "      <td>0</td>\n",
       "      <td>0</td>\n",
       "      <td>0</td>\n",
       "      <td>0</td>\n",
       "      <td>0</td>\n",
       "      <td>...</td>\n",
       "      <td>0</td>\n",
       "      <td>0</td>\n",
       "      <td>0</td>\n",
       "      <td>0</td>\n",
       "      <td>0</td>\n",
       "      <td>0</td>\n",
       "      <td>0</td>\n",
       "      <td>0</td>\n",
       "      <td>1</td>\n",
       "      <td>0</td>\n",
       "    </tr>\n",
       "    <tr>\n",
       "      <th>7</th>\n",
       "      <td>418Thel</td>\n",
       "      <td>1</td>\n",
       "      <td>0</td>\n",
       "      <td>0</td>\n",
       "      <td>0</td>\n",
       "      <td>0</td>\n",
       "      <td>0</td>\n",
       "      <td>0</td>\n",
       "      <td>0</td>\n",
       "      <td>0</td>\n",
       "      <td>...</td>\n",
       "      <td>0</td>\n",
       "      <td>0</td>\n",
       "      <td>0</td>\n",
       "      <td>0</td>\n",
       "      <td>0</td>\n",
       "      <td>0</td>\n",
       "      <td>0</td>\n",
       "      <td>1</td>\n",
       "      <td>1</td>\n",
       "      <td>0</td>\n",
       "    </tr>\n",
       "    <tr>\n",
       "      <th>8</th>\n",
       "      <td>IgnByz</td>\n",
       "      <td>0</td>\n",
       "      <td>0</td>\n",
       "      <td>0</td>\n",
       "      <td>0</td>\n",
       "      <td>0</td>\n",
       "      <td>0</td>\n",
       "      <td>0</td>\n",
       "      <td>0</td>\n",
       "      <td>0</td>\n",
       "      <td>...</td>\n",
       "      <td>0</td>\n",
       "      <td>0</td>\n",
       "      <td>0</td>\n",
       "      <td>0</td>\n",
       "      <td>0</td>\n",
       "      <td>0</td>\n",
       "      <td>0</td>\n",
       "      <td>0</td>\n",
       "      <td>0</td>\n",
       "      <td>0</td>\n",
       "    </tr>\n",
       "    <tr>\n",
       "      <th>9</th>\n",
       "      <td>418Carth</td>\n",
       "      <td>0</td>\n",
       "      <td>0</td>\n",
       "      <td>0</td>\n",
       "      <td>0</td>\n",
       "      <td>0</td>\n",
       "      <td>1</td>\n",
       "      <td>0</td>\n",
       "      <td>0</td>\n",
       "      <td>0</td>\n",
       "      <td>...</td>\n",
       "      <td>0</td>\n",
       "      <td>0</td>\n",
       "      <td>0</td>\n",
       "      <td>0</td>\n",
       "      <td>0</td>\n",
       "      <td>0</td>\n",
       "      <td>0</td>\n",
       "      <td>0</td>\n",
       "      <td>1</td>\n",
       "      <td>0</td>\n",
       "    </tr>\n",
       "    <tr>\n",
       "      <th>10</th>\n",
       "      <td>410Carth</td>\n",
       "      <td>0</td>\n",
       "      <td>0</td>\n",
       "      <td>0</td>\n",
       "      <td>0</td>\n",
       "      <td>0</td>\n",
       "      <td>0</td>\n",
       "      <td>0</td>\n",
       "      <td>0</td>\n",
       "      <td>0</td>\n",
       "      <td>...</td>\n",
       "      <td>0</td>\n",
       "      <td>0</td>\n",
       "      <td>0</td>\n",
       "      <td>0</td>\n",
       "      <td>0</td>\n",
       "      <td>0</td>\n",
       "      <td>0</td>\n",
       "      <td>0</td>\n",
       "      <td>0</td>\n",
       "      <td>0</td>\n",
       "    </tr>\n",
       "    <tr>\n",
       "      <th>11</th>\n",
       "      <td>424Carth</td>\n",
       "      <td>0</td>\n",
       "      <td>1</td>\n",
       "      <td>0</td>\n",
       "      <td>0</td>\n",
       "      <td>0</td>\n",
       "      <td>0</td>\n",
       "      <td>0</td>\n",
       "      <td>1</td>\n",
       "      <td>0</td>\n",
       "      <td>...</td>\n",
       "      <td>0</td>\n",
       "      <td>0</td>\n",
       "      <td>0</td>\n",
       "      <td>0</td>\n",
       "      <td>0</td>\n",
       "      <td>1</td>\n",
       "      <td>0</td>\n",
       "      <td>0</td>\n",
       "      <td>1</td>\n",
       "      <td>0</td>\n",
       "    </tr>\n",
       "    <tr>\n",
       "      <th>12</th>\n",
       "      <td>401CarthJun</td>\n",
       "      <td>0</td>\n",
       "      <td>0</td>\n",
       "      <td>0</td>\n",
       "      <td>0</td>\n",
       "      <td>0</td>\n",
       "      <td>0</td>\n",
       "      <td>0</td>\n",
       "      <td>0</td>\n",
       "      <td>0</td>\n",
       "      <td>...</td>\n",
       "      <td>0</td>\n",
       "      <td>0</td>\n",
       "      <td>0</td>\n",
       "      <td>0</td>\n",
       "      <td>0</td>\n",
       "      <td>0</td>\n",
       "      <td>0</td>\n",
       "      <td>0</td>\n",
       "      <td>0</td>\n",
       "      <td>0</td>\n",
       "    </tr>\n",
       "    <tr>\n",
       "      <th>13</th>\n",
       "      <td>397Carth</td>\n",
       "      <td>0</td>\n",
       "      <td>0</td>\n",
       "      <td>0</td>\n",
       "      <td>0</td>\n",
       "      <td>0</td>\n",
       "      <td>0</td>\n",
       "      <td>0</td>\n",
       "      <td>0</td>\n",
       "      <td>0</td>\n",
       "      <td>...</td>\n",
       "      <td>0</td>\n",
       "      <td>0</td>\n",
       "      <td>0</td>\n",
       "      <td>0</td>\n",
       "      <td>0</td>\n",
       "      <td>0</td>\n",
       "      <td>0</td>\n",
       "      <td>0</td>\n",
       "      <td>0</td>\n",
       "      <td>0</td>\n",
       "    </tr>\n",
       "    <tr>\n",
       "      <th>14</th>\n",
       "      <td>397Carth2</td>\n",
       "      <td>0</td>\n",
       "      <td>0</td>\n",
       "      <td>0</td>\n",
       "      <td>0</td>\n",
       "      <td>0</td>\n",
       "      <td>0</td>\n",
       "      <td>1</td>\n",
       "      <td>0</td>\n",
       "      <td>0</td>\n",
       "      <td>...</td>\n",
       "      <td>0</td>\n",
       "      <td>1</td>\n",
       "      <td>0</td>\n",
       "      <td>0</td>\n",
       "      <td>0</td>\n",
       "      <td>0</td>\n",
       "      <td>0</td>\n",
       "      <td>0</td>\n",
       "      <td>0</td>\n",
       "      <td>0</td>\n",
       "    </tr>\n",
       "    <tr>\n",
       "      <th>15</th>\n",
       "      <td>407Carth</td>\n",
       "      <td>0</td>\n",
       "      <td>1</td>\n",
       "      <td>0</td>\n",
       "      <td>0</td>\n",
       "      <td>0</td>\n",
       "      <td>0</td>\n",
       "      <td>0</td>\n",
       "      <td>0</td>\n",
       "      <td>0</td>\n",
       "      <td>...</td>\n",
       "      <td>0</td>\n",
       "      <td>0</td>\n",
       "      <td>0</td>\n",
       "      <td>1</td>\n",
       "      <td>0</td>\n",
       "      <td>0</td>\n",
       "      <td>0</td>\n",
       "      <td>0</td>\n",
       "      <td>1</td>\n",
       "      <td>0</td>\n",
       "    </tr>\n",
       "    <tr>\n",
       "      <th>16</th>\n",
       "      <td>404Carth</td>\n",
       "      <td>0</td>\n",
       "      <td>1</td>\n",
       "      <td>0</td>\n",
       "      <td>0</td>\n",
       "      <td>0</td>\n",
       "      <td>0</td>\n",
       "      <td>0</td>\n",
       "      <td>0</td>\n",
       "      <td>0</td>\n",
       "      <td>...</td>\n",
       "      <td>0</td>\n",
       "      <td>0</td>\n",
       "      <td>0</td>\n",
       "      <td>0</td>\n",
       "      <td>0</td>\n",
       "      <td>0</td>\n",
       "      <td>0</td>\n",
       "      <td>0</td>\n",
       "      <td>0</td>\n",
       "      <td>0</td>\n",
       "    </tr>\n",
       "    <tr>\n",
       "      <th>17</th>\n",
       "      <td>402Mil</td>\n",
       "      <td>0</td>\n",
       "      <td>0</td>\n",
       "      <td>1</td>\n",
       "      <td>0</td>\n",
       "      <td>0</td>\n",
       "      <td>0</td>\n",
       "      <td>0</td>\n",
       "      <td>0</td>\n",
       "      <td>0</td>\n",
       "      <td>...</td>\n",
       "      <td>0</td>\n",
       "      <td>0</td>\n",
       "      <td>0</td>\n",
       "      <td>0</td>\n",
       "      <td>1</td>\n",
       "      <td>0</td>\n",
       "      <td>0</td>\n",
       "      <td>0</td>\n",
       "      <td>0</td>\n",
       "      <td>0</td>\n",
       "    </tr>\n",
       "    <tr>\n",
       "      <th>18</th>\n",
       "      <td>408CarthJun</td>\n",
       "      <td>0</td>\n",
       "      <td>0</td>\n",
       "      <td>0</td>\n",
       "      <td>0</td>\n",
       "      <td>0</td>\n",
       "      <td>0</td>\n",
       "      <td>0</td>\n",
       "      <td>0</td>\n",
       "      <td>0</td>\n",
       "      <td>...</td>\n",
       "      <td>0</td>\n",
       "      <td>0</td>\n",
       "      <td>0</td>\n",
       "      <td>0</td>\n",
       "      <td>0</td>\n",
       "      <td>0</td>\n",
       "      <td>0</td>\n",
       "      <td>0</td>\n",
       "      <td>0</td>\n",
       "      <td>0</td>\n",
       "    </tr>\n",
       "    <tr>\n",
       "      <th>19</th>\n",
       "      <td>390Carth</td>\n",
       "      <td>0</td>\n",
       "      <td>0</td>\n",
       "      <td>0</td>\n",
       "      <td>0</td>\n",
       "      <td>0</td>\n",
       "      <td>0</td>\n",
       "      <td>0</td>\n",
       "      <td>0</td>\n",
       "      <td>1</td>\n",
       "      <td>...</td>\n",
       "      <td>0</td>\n",
       "      <td>0</td>\n",
       "      <td>0</td>\n",
       "      <td>0</td>\n",
       "      <td>0</td>\n",
       "      <td>0</td>\n",
       "      <td>0</td>\n",
       "      <td>0</td>\n",
       "      <td>0</td>\n",
       "      <td>0</td>\n",
       "    </tr>\n",
       "    <tr>\n",
       "      <th>20</th>\n",
       "      <td>Carth4</td>\n",
       "      <td>0</td>\n",
       "      <td>0</td>\n",
       "      <td>0</td>\n",
       "      <td>0</td>\n",
       "      <td>0</td>\n",
       "      <td>0</td>\n",
       "      <td>0</td>\n",
       "      <td>0</td>\n",
       "      <td>0</td>\n",
       "      <td>...</td>\n",
       "      <td>0</td>\n",
       "      <td>0</td>\n",
       "      <td>0</td>\n",
       "      <td>0</td>\n",
       "      <td>0</td>\n",
       "      <td>0</td>\n",
       "      <td>0</td>\n",
       "      <td>0</td>\n",
       "      <td>0</td>\n",
       "      <td>0</td>\n",
       "    </tr>\n",
       "  </tbody>\n",
       "</table>\n",
       "<p>21 rows × 148 columns</p>\n",
       "</div>"
      ],
      "text/plain": [
       "        councils MaximianusByzacenae TheasiusMemblonitanus  \\\n",
       "0       403Carth                   0                     0   \n",
       "1       419Carth                   0                     0   \n",
       "2       393Hippo                   0                     0   \n",
       "3    408CarthOct                   0                     0   \n",
       "4   401CarthSept                   0                     1   \n",
       "5       427Hippo                   0                     0   \n",
       "6       399Carth                   0                     0   \n",
       "7        418Thel                   1                     0   \n",
       "8         IgnByz                   0                     0   \n",
       "9       418Carth                   0                     0   \n",
       "10      410Carth                   0                     0   \n",
       "11      424Carth                   0                     1   \n",
       "12   401CarthJun                   0                     0   \n",
       "13      397Carth                   0                     0   \n",
       "14     397Carth2                   0                     0   \n",
       "15      407Carth                   0                     1   \n",
       "16      404Carth                   0                     1   \n",
       "17        402Mil                   0                     0   \n",
       "18   408CarthJun                   0                     0   \n",
       "19      390Carth                   0                     0   \n",
       "20        Carth4                   0                     0   \n",
       "\n",
       "   ValentinusBaianensis IanuariusTurusudensis RufinianusMuzucensis  \\\n",
       "0                     0                     0                    0   \n",
       "1                     0                     0                    1   \n",
       "2                     0                     0                    0   \n",
       "3                     0                     0                    0   \n",
       "4                     0                     1                    0   \n",
       "5                     0                     0                    0   \n",
       "6                     0                     0                    0   \n",
       "7                     0                     0                    0   \n",
       "8                     0                     0                    0   \n",
       "9                     0                     0                    0   \n",
       "10                    0                     0                    0   \n",
       "11                    0                     0                    0   \n",
       "12                    0                     0                    0   \n",
       "13                    0                     0                    0   \n",
       "14                    0                     0                    0   \n",
       "15                    0                     0                    0   \n",
       "16                    0                     0                    0   \n",
       "17                    1                     0                    0   \n",
       "18                    0                     0                    0   \n",
       "19                    0                     0                    0   \n",
       "20                    0                     0                    0   \n",
       "\n",
       "   AemilianusAraditanus AntorusIgnoti SeruusdeiTubursicuburensis  \\\n",
       "0                     0             0                          0   \n",
       "1                     0             0                          0   \n",
       "2                     0             0                          0   \n",
       "3                     0             0                          0   \n",
       "4                     0             0                          0   \n",
       "5                     0             0                          0   \n",
       "6                     0             0                          0   \n",
       "7                     0             0                          0   \n",
       "8                     0             0                          0   \n",
       "9                     1             0                          0   \n",
       "10                    0             0                          0   \n",
       "11                    0             0                          1   \n",
       "12                    0             0                          0   \n",
       "13                    0             0                          0   \n",
       "14                    0             1                          0   \n",
       "15                    0             0                          0   \n",
       "16                    0             0                          0   \n",
       "17                    0             0                          0   \n",
       "18                    0             0                          0   \n",
       "19                    0             0                          0   \n",
       "20                    0             0                          0   \n",
       "\n",
       "   GenethliusCarthaginensis  ... LaurentiusIcositanus DonatusIgnoti2  \\\n",
       "0                         0  ...                    0              0   \n",
       "1                         0  ...                    1              0   \n",
       "2                         0  ...                    0              0   \n",
       "3                         0  ...                    0              0   \n",
       "4                         0  ...                    0              0   \n",
       "5                         0  ...                    0              0   \n",
       "6                         0  ...                    0              0   \n",
       "7                         0  ...                    0              0   \n",
       "8                         0  ...                    0              0   \n",
       "9                         0  ...                    0              0   \n",
       "10                        0  ...                    0              0   \n",
       "11                        0  ...                    0              0   \n",
       "12                        0  ...                    0              0   \n",
       "13                        0  ...                    0              0   \n",
       "14                        0  ...                    0              1   \n",
       "15                        0  ...                    0              0   \n",
       "16                        0  ...                    0              0   \n",
       "17                        0  ...                    0              0   \n",
       "18                        0  ...                    0              0   \n",
       "19                        1  ...                    0              0   \n",
       "20                        0  ...                    0              0   \n",
       "\n",
       "   FortunatusNumidiae SecundusIgnoti QuoduultdeusCenturiensis IanuariusIgnoti  \\\n",
       "0                   0              0                        0               0   \n",
       "1                   0              0                        0               0   \n",
       "2                   0              0                        0               0   \n",
       "3                   0              0                        0               0   \n",
       "4                   1              0                        1               0   \n",
       "5                   0              0                        0               0   \n",
       "6                   0              0                        0               0   \n",
       "7                   0              0                        0               0   \n",
       "8                   0              0                        0               0   \n",
       "9                   0              0                        0               0   \n",
       "10                  0              0                        0               0   \n",
       "11                  0              0                        0               1   \n",
       "12                  0              0                        0               0   \n",
       "13                  0              0                        0               0   \n",
       "14                  0              0                        0               0   \n",
       "15                  0              1                        0               0   \n",
       "16                  0              0                        0               0   \n",
       "17                  0              0                        1               0   \n",
       "18                  0              0                        0               0   \n",
       "19                  0              0                        0               0   \n",
       "20                  0              0                        0               0   \n",
       "\n",
       "   SimpliciusIgnoti TutusByzacenae VincentiusCulusitanus PlacianusIgnoti  \n",
       "0                 0              0                     0               0  \n",
       "1                 0              0                     1               0  \n",
       "2                 0              0                     0               0  \n",
       "3                 0              0                     0               0  \n",
       "4                 0              0                     0               1  \n",
       "5                 1              0                     0               0  \n",
       "6                 0              0                     1               0  \n",
       "7                 0              1                     1               0  \n",
       "8                 0              0                     0               0  \n",
       "9                 0              0                     1               0  \n",
       "10                0              0                     0               0  \n",
       "11                0              0                     1               0  \n",
       "12                0              0                     0               0  \n",
       "13                0              0                     0               0  \n",
       "14                0              0                     0               0  \n",
       "15                0              0                     1               0  \n",
       "16                0              0                     0               0  \n",
       "17                0              0                     0               0  \n",
       "18                0              0                     0               0  \n",
       "19                0              0                     0               0  \n",
       "20                0              0                     0               0  \n",
       "\n",
       "[21 rows x 148 columns]"
      ]
     },
     "execution_count": 30,
     "metadata": {},
     "output_type": "execute_result"
    }
   ],
   "source": [
    "print (len(everything2))\n",
    "new_df = new_df.append(everything2)\n",
    "new_df"
   ]
  },
  {
   "cell_type": "code",
   "execution_count": 31,
   "id": "placed-therapy",
   "metadata": {},
   "outputs": [
    {
     "ename": "TypeError",
     "evalue": "list indices must be integers or slices, not dict",
     "output_type": "error",
     "traceback": [
      "\u001b[1;31m---------------------------------------------------------------------------\u001b[0m",
      "\u001b[1;31mTypeError\u001b[0m                                 Traceback (most recent call last)",
      "\u001b[1;32m<ipython-input-31-f44dbff0c529>\u001b[0m in \u001b[0;36m<module>\u001b[1;34m\u001b[0m\n\u001b[0;32m      1\u001b[0m \u001b[1;32mfor\u001b[0m \u001b[0mitem\u001b[0m \u001b[1;32min\u001b[0m \u001b[0meverything2\u001b[0m\u001b[1;33m:\u001b[0m\u001b[1;33m\u001b[0m\u001b[1;33m\u001b[0m\u001b[0m\n\u001b[1;32m----> 2\u001b[1;33m     \u001b[0mnew_df\u001b[0m\u001b[1;33m.\u001b[0m\u001b[0mappend\u001b[0m\u001b[1;33m(\u001b[0m\u001b[0meverything2\u001b[0m\u001b[1;33m[\u001b[0m\u001b[0mitem\u001b[0m\u001b[1;33m]\u001b[0m\u001b[1;33m)\u001b[0m\u001b[1;33m\u001b[0m\u001b[1;33m\u001b[0m\u001b[0m\n\u001b[0m",
      "\u001b[1;31mTypeError\u001b[0m: list indices must be integers or slices, not dict"
     ]
    }
   ],
   "source": [
    "for item in everything2:\n",
    "    new_df.append(everything2[item])"
   ]
  },
  {
   "cell_type": "code",
   "execution_count": 32,
   "id": "continent-married",
   "metadata": {},
   "outputs": [
    {
     "data": {
      "text/html": [
       "<div>\n",
       "<style scoped>\n",
       "    .dataframe tbody tr th:only-of-type {\n",
       "        vertical-align: middle;\n",
       "    }\n",
       "\n",
       "    .dataframe tbody tr th {\n",
       "        vertical-align: top;\n",
       "    }\n",
       "\n",
       "    .dataframe thead th {\n",
       "        text-align: right;\n",
       "    }\n",
       "</style>\n",
       "<table border=\"1\" class=\"dataframe\">\n",
       "  <thead>\n",
       "    <tr style=\"text-align: right;\">\n",
       "      <th></th>\n",
       "      <th>councils</th>\n",
       "      <th>MaximianusByzacenae</th>\n",
       "      <th>TheasiusMemblonitanus</th>\n",
       "      <th>ValentinusBaianensis</th>\n",
       "      <th>IanuariusTurusudensis</th>\n",
       "      <th>RufinianusMuzucensis</th>\n",
       "      <th>AemilianusAraditanus</th>\n",
       "      <th>AntorusIgnoti</th>\n",
       "      <th>SeruusdeiTubursicuburensis</th>\n",
       "      <th>GenethliusCarthaginensis</th>\n",
       "      <th>...</th>\n",
       "      <th>LaurentiusIcositanus</th>\n",
       "      <th>DonatusIgnoti2</th>\n",
       "      <th>FortunatusNumidiae</th>\n",
       "      <th>SecundusIgnoti</th>\n",
       "      <th>QuoduultdeusCenturiensis</th>\n",
       "      <th>IanuariusIgnoti</th>\n",
       "      <th>SimpliciusIgnoti</th>\n",
       "      <th>TutusByzacenae</th>\n",
       "      <th>VincentiusCulusitanus</th>\n",
       "      <th>PlacianusIgnoti</th>\n",
       "    </tr>\n",
       "  </thead>\n",
       "  <tbody>\n",
       "    <tr>\n",
       "      <th>0</th>\n",
       "      <td>403Carth</td>\n",
       "      <td>0</td>\n",
       "      <td>0</td>\n",
       "      <td>0</td>\n",
       "      <td>0</td>\n",
       "      <td>0</td>\n",
       "      <td>0</td>\n",
       "      <td>0</td>\n",
       "      <td>0</td>\n",
       "      <td>0</td>\n",
       "      <td>...</td>\n",
       "      <td>0</td>\n",
       "      <td>0</td>\n",
       "      <td>0</td>\n",
       "      <td>0</td>\n",
       "      <td>0</td>\n",
       "      <td>0</td>\n",
       "      <td>0</td>\n",
       "      <td>0</td>\n",
       "      <td>0</td>\n",
       "      <td>0</td>\n",
       "    </tr>\n",
       "    <tr>\n",
       "      <th>1</th>\n",
       "      <td>419Carth</td>\n",
       "      <td>0</td>\n",
       "      <td>0</td>\n",
       "      <td>0</td>\n",
       "      <td>0</td>\n",
       "      <td>1</td>\n",
       "      <td>0</td>\n",
       "      <td>0</td>\n",
       "      <td>0</td>\n",
       "      <td>0</td>\n",
       "      <td>...</td>\n",
       "      <td>1</td>\n",
       "      <td>0</td>\n",
       "      <td>0</td>\n",
       "      <td>0</td>\n",
       "      <td>0</td>\n",
       "      <td>0</td>\n",
       "      <td>0</td>\n",
       "      <td>0</td>\n",
       "      <td>1</td>\n",
       "      <td>0</td>\n",
       "    </tr>\n",
       "    <tr>\n",
       "      <th>2</th>\n",
       "      <td>393Hippo</td>\n",
       "      <td>0</td>\n",
       "      <td>0</td>\n",
       "      <td>0</td>\n",
       "      <td>0</td>\n",
       "      <td>0</td>\n",
       "      <td>0</td>\n",
       "      <td>0</td>\n",
       "      <td>0</td>\n",
       "      <td>0</td>\n",
       "      <td>...</td>\n",
       "      <td>0</td>\n",
       "      <td>0</td>\n",
       "      <td>0</td>\n",
       "      <td>0</td>\n",
       "      <td>0</td>\n",
       "      <td>0</td>\n",
       "      <td>0</td>\n",
       "      <td>0</td>\n",
       "      <td>0</td>\n",
       "      <td>0</td>\n",
       "    </tr>\n",
       "    <tr>\n",
       "      <th>3</th>\n",
       "      <td>408CarthOct</td>\n",
       "      <td>0</td>\n",
       "      <td>0</td>\n",
       "      <td>0</td>\n",
       "      <td>0</td>\n",
       "      <td>0</td>\n",
       "      <td>0</td>\n",
       "      <td>0</td>\n",
       "      <td>0</td>\n",
       "      <td>0</td>\n",
       "      <td>...</td>\n",
       "      <td>0</td>\n",
       "      <td>0</td>\n",
       "      <td>0</td>\n",
       "      <td>0</td>\n",
       "      <td>0</td>\n",
       "      <td>0</td>\n",
       "      <td>0</td>\n",
       "      <td>0</td>\n",
       "      <td>0</td>\n",
       "      <td>0</td>\n",
       "    </tr>\n",
       "    <tr>\n",
       "      <th>4</th>\n",
       "      <td>401CarthSept</td>\n",
       "      <td>0</td>\n",
       "      <td>1</td>\n",
       "      <td>0</td>\n",
       "      <td>1</td>\n",
       "      <td>0</td>\n",
       "      <td>0</td>\n",
       "      <td>0</td>\n",
       "      <td>0</td>\n",
       "      <td>0</td>\n",
       "      <td>...</td>\n",
       "      <td>0</td>\n",
       "      <td>0</td>\n",
       "      <td>1</td>\n",
       "      <td>0</td>\n",
       "      <td>1</td>\n",
       "      <td>0</td>\n",
       "      <td>0</td>\n",
       "      <td>0</td>\n",
       "      <td>0</td>\n",
       "      <td>1</td>\n",
       "    </tr>\n",
       "    <tr>\n",
       "      <th>5</th>\n",
       "      <td>427Hippo</td>\n",
       "      <td>0</td>\n",
       "      <td>0</td>\n",
       "      <td>0</td>\n",
       "      <td>0</td>\n",
       "      <td>0</td>\n",
       "      <td>0</td>\n",
       "      <td>0</td>\n",
       "      <td>0</td>\n",
       "      <td>0</td>\n",
       "      <td>...</td>\n",
       "      <td>0</td>\n",
       "      <td>0</td>\n",
       "      <td>0</td>\n",
       "      <td>0</td>\n",
       "      <td>0</td>\n",
       "      <td>0</td>\n",
       "      <td>1</td>\n",
       "      <td>0</td>\n",
       "      <td>0</td>\n",
       "      <td>0</td>\n",
       "    </tr>\n",
       "    <tr>\n",
       "      <th>6</th>\n",
       "      <td>399Carth</td>\n",
       "      <td>0</td>\n",
       "      <td>0</td>\n",
       "      <td>0</td>\n",
       "      <td>0</td>\n",
       "      <td>0</td>\n",
       "      <td>0</td>\n",
       "      <td>0</td>\n",
       "      <td>0</td>\n",
       "      <td>0</td>\n",
       "      <td>...</td>\n",
       "      <td>0</td>\n",
       "      <td>0</td>\n",
       "      <td>0</td>\n",
       "      <td>0</td>\n",
       "      <td>0</td>\n",
       "      <td>0</td>\n",
       "      <td>0</td>\n",
       "      <td>0</td>\n",
       "      <td>1</td>\n",
       "      <td>0</td>\n",
       "    </tr>\n",
       "    <tr>\n",
       "      <th>7</th>\n",
       "      <td>418Thel</td>\n",
       "      <td>1</td>\n",
       "      <td>0</td>\n",
       "      <td>0</td>\n",
       "      <td>0</td>\n",
       "      <td>0</td>\n",
       "      <td>0</td>\n",
       "      <td>0</td>\n",
       "      <td>0</td>\n",
       "      <td>0</td>\n",
       "      <td>...</td>\n",
       "      <td>0</td>\n",
       "      <td>0</td>\n",
       "      <td>0</td>\n",
       "      <td>0</td>\n",
       "      <td>0</td>\n",
       "      <td>0</td>\n",
       "      <td>0</td>\n",
       "      <td>1</td>\n",
       "      <td>1</td>\n",
       "      <td>0</td>\n",
       "    </tr>\n",
       "    <tr>\n",
       "      <th>8</th>\n",
       "      <td>IgnByz</td>\n",
       "      <td>0</td>\n",
       "      <td>0</td>\n",
       "      <td>0</td>\n",
       "      <td>0</td>\n",
       "      <td>0</td>\n",
       "      <td>0</td>\n",
       "      <td>0</td>\n",
       "      <td>0</td>\n",
       "      <td>0</td>\n",
       "      <td>...</td>\n",
       "      <td>0</td>\n",
       "      <td>0</td>\n",
       "      <td>0</td>\n",
       "      <td>0</td>\n",
       "      <td>0</td>\n",
       "      <td>0</td>\n",
       "      <td>0</td>\n",
       "      <td>0</td>\n",
       "      <td>0</td>\n",
       "      <td>0</td>\n",
       "    </tr>\n",
       "    <tr>\n",
       "      <th>9</th>\n",
       "      <td>418Carth</td>\n",
       "      <td>0</td>\n",
       "      <td>0</td>\n",
       "      <td>0</td>\n",
       "      <td>0</td>\n",
       "      <td>0</td>\n",
       "      <td>1</td>\n",
       "      <td>0</td>\n",
       "      <td>0</td>\n",
       "      <td>0</td>\n",
       "      <td>...</td>\n",
       "      <td>0</td>\n",
       "      <td>0</td>\n",
       "      <td>0</td>\n",
       "      <td>0</td>\n",
       "      <td>0</td>\n",
       "      <td>0</td>\n",
       "      <td>0</td>\n",
       "      <td>0</td>\n",
       "      <td>1</td>\n",
       "      <td>0</td>\n",
       "    </tr>\n",
       "    <tr>\n",
       "      <th>10</th>\n",
       "      <td>410Carth</td>\n",
       "      <td>0</td>\n",
       "      <td>0</td>\n",
       "      <td>0</td>\n",
       "      <td>0</td>\n",
       "      <td>0</td>\n",
       "      <td>0</td>\n",
       "      <td>0</td>\n",
       "      <td>0</td>\n",
       "      <td>0</td>\n",
       "      <td>...</td>\n",
       "      <td>0</td>\n",
       "      <td>0</td>\n",
       "      <td>0</td>\n",
       "      <td>0</td>\n",
       "      <td>0</td>\n",
       "      <td>0</td>\n",
       "      <td>0</td>\n",
       "      <td>0</td>\n",
       "      <td>0</td>\n",
       "      <td>0</td>\n",
       "    </tr>\n",
       "    <tr>\n",
       "      <th>11</th>\n",
       "      <td>424Carth</td>\n",
       "      <td>0</td>\n",
       "      <td>1</td>\n",
       "      <td>0</td>\n",
       "      <td>0</td>\n",
       "      <td>0</td>\n",
       "      <td>0</td>\n",
       "      <td>0</td>\n",
       "      <td>1</td>\n",
       "      <td>0</td>\n",
       "      <td>...</td>\n",
       "      <td>0</td>\n",
       "      <td>0</td>\n",
       "      <td>0</td>\n",
       "      <td>0</td>\n",
       "      <td>0</td>\n",
       "      <td>1</td>\n",
       "      <td>0</td>\n",
       "      <td>0</td>\n",
       "      <td>1</td>\n",
       "      <td>0</td>\n",
       "    </tr>\n",
       "    <tr>\n",
       "      <th>12</th>\n",
       "      <td>401CarthJun</td>\n",
       "      <td>0</td>\n",
       "      <td>0</td>\n",
       "      <td>0</td>\n",
       "      <td>0</td>\n",
       "      <td>0</td>\n",
       "      <td>0</td>\n",
       "      <td>0</td>\n",
       "      <td>0</td>\n",
       "      <td>0</td>\n",
       "      <td>...</td>\n",
       "      <td>0</td>\n",
       "      <td>0</td>\n",
       "      <td>0</td>\n",
       "      <td>0</td>\n",
       "      <td>0</td>\n",
       "      <td>0</td>\n",
       "      <td>0</td>\n",
       "      <td>0</td>\n",
       "      <td>0</td>\n",
       "      <td>0</td>\n",
       "    </tr>\n",
       "    <tr>\n",
       "      <th>13</th>\n",
       "      <td>397Carth</td>\n",
       "      <td>0</td>\n",
       "      <td>0</td>\n",
       "      <td>0</td>\n",
       "      <td>0</td>\n",
       "      <td>0</td>\n",
       "      <td>0</td>\n",
       "      <td>0</td>\n",
       "      <td>0</td>\n",
       "      <td>0</td>\n",
       "      <td>...</td>\n",
       "      <td>0</td>\n",
       "      <td>0</td>\n",
       "      <td>0</td>\n",
       "      <td>0</td>\n",
       "      <td>0</td>\n",
       "      <td>0</td>\n",
       "      <td>0</td>\n",
       "      <td>0</td>\n",
       "      <td>0</td>\n",
       "      <td>0</td>\n",
       "    </tr>\n",
       "    <tr>\n",
       "      <th>14</th>\n",
       "      <td>397Carth2</td>\n",
       "      <td>0</td>\n",
       "      <td>0</td>\n",
       "      <td>0</td>\n",
       "      <td>0</td>\n",
       "      <td>0</td>\n",
       "      <td>0</td>\n",
       "      <td>1</td>\n",
       "      <td>0</td>\n",
       "      <td>0</td>\n",
       "      <td>...</td>\n",
       "      <td>0</td>\n",
       "      <td>1</td>\n",
       "      <td>0</td>\n",
       "      <td>0</td>\n",
       "      <td>0</td>\n",
       "      <td>0</td>\n",
       "      <td>0</td>\n",
       "      <td>0</td>\n",
       "      <td>0</td>\n",
       "      <td>0</td>\n",
       "    </tr>\n",
       "    <tr>\n",
       "      <th>15</th>\n",
       "      <td>407Carth</td>\n",
       "      <td>0</td>\n",
       "      <td>1</td>\n",
       "      <td>0</td>\n",
       "      <td>0</td>\n",
       "      <td>0</td>\n",
       "      <td>0</td>\n",
       "      <td>0</td>\n",
       "      <td>0</td>\n",
       "      <td>0</td>\n",
       "      <td>...</td>\n",
       "      <td>0</td>\n",
       "      <td>0</td>\n",
       "      <td>0</td>\n",
       "      <td>1</td>\n",
       "      <td>0</td>\n",
       "      <td>0</td>\n",
       "      <td>0</td>\n",
       "      <td>0</td>\n",
       "      <td>1</td>\n",
       "      <td>0</td>\n",
       "    </tr>\n",
       "    <tr>\n",
       "      <th>16</th>\n",
       "      <td>404Carth</td>\n",
       "      <td>0</td>\n",
       "      <td>1</td>\n",
       "      <td>0</td>\n",
       "      <td>0</td>\n",
       "      <td>0</td>\n",
       "      <td>0</td>\n",
       "      <td>0</td>\n",
       "      <td>0</td>\n",
       "      <td>0</td>\n",
       "      <td>...</td>\n",
       "      <td>0</td>\n",
       "      <td>0</td>\n",
       "      <td>0</td>\n",
       "      <td>0</td>\n",
       "      <td>0</td>\n",
       "      <td>0</td>\n",
       "      <td>0</td>\n",
       "      <td>0</td>\n",
       "      <td>0</td>\n",
       "      <td>0</td>\n",
       "    </tr>\n",
       "    <tr>\n",
       "      <th>17</th>\n",
       "      <td>402Mil</td>\n",
       "      <td>0</td>\n",
       "      <td>0</td>\n",
       "      <td>1</td>\n",
       "      <td>0</td>\n",
       "      <td>0</td>\n",
       "      <td>0</td>\n",
       "      <td>0</td>\n",
       "      <td>0</td>\n",
       "      <td>0</td>\n",
       "      <td>...</td>\n",
       "      <td>0</td>\n",
       "      <td>0</td>\n",
       "      <td>0</td>\n",
       "      <td>0</td>\n",
       "      <td>1</td>\n",
       "      <td>0</td>\n",
       "      <td>0</td>\n",
       "      <td>0</td>\n",
       "      <td>0</td>\n",
       "      <td>0</td>\n",
       "    </tr>\n",
       "    <tr>\n",
       "      <th>18</th>\n",
       "      <td>408CarthJun</td>\n",
       "      <td>0</td>\n",
       "      <td>0</td>\n",
       "      <td>0</td>\n",
       "      <td>0</td>\n",
       "      <td>0</td>\n",
       "      <td>0</td>\n",
       "      <td>0</td>\n",
       "      <td>0</td>\n",
       "      <td>0</td>\n",
       "      <td>...</td>\n",
       "      <td>0</td>\n",
       "      <td>0</td>\n",
       "      <td>0</td>\n",
       "      <td>0</td>\n",
       "      <td>0</td>\n",
       "      <td>0</td>\n",
       "      <td>0</td>\n",
       "      <td>0</td>\n",
       "      <td>0</td>\n",
       "      <td>0</td>\n",
       "    </tr>\n",
       "    <tr>\n",
       "      <th>19</th>\n",
       "      <td>390Carth</td>\n",
       "      <td>0</td>\n",
       "      <td>0</td>\n",
       "      <td>0</td>\n",
       "      <td>0</td>\n",
       "      <td>0</td>\n",
       "      <td>0</td>\n",
       "      <td>0</td>\n",
       "      <td>0</td>\n",
       "      <td>1</td>\n",
       "      <td>...</td>\n",
       "      <td>0</td>\n",
       "      <td>0</td>\n",
       "      <td>0</td>\n",
       "      <td>0</td>\n",
       "      <td>0</td>\n",
       "      <td>0</td>\n",
       "      <td>0</td>\n",
       "      <td>0</td>\n",
       "      <td>0</td>\n",
       "      <td>0</td>\n",
       "    </tr>\n",
       "    <tr>\n",
       "      <th>20</th>\n",
       "      <td>Carth4</td>\n",
       "      <td>0</td>\n",
       "      <td>0</td>\n",
       "      <td>0</td>\n",
       "      <td>0</td>\n",
       "      <td>0</td>\n",
       "      <td>0</td>\n",
       "      <td>0</td>\n",
       "      <td>0</td>\n",
       "      <td>0</td>\n",
       "      <td>...</td>\n",
       "      <td>0</td>\n",
       "      <td>0</td>\n",
       "      <td>0</td>\n",
       "      <td>0</td>\n",
       "      <td>0</td>\n",
       "      <td>0</td>\n",
       "      <td>0</td>\n",
       "      <td>0</td>\n",
       "      <td>0</td>\n",
       "      <td>0</td>\n",
       "    </tr>\n",
       "  </tbody>\n",
       "</table>\n",
       "<p>21 rows × 148 columns</p>\n",
       "</div>"
      ],
      "text/plain": [
       "        councils MaximianusByzacenae TheasiusMemblonitanus  \\\n",
       "0       403Carth                   0                     0   \n",
       "1       419Carth                   0                     0   \n",
       "2       393Hippo                   0                     0   \n",
       "3    408CarthOct                   0                     0   \n",
       "4   401CarthSept                   0                     1   \n",
       "5       427Hippo                   0                     0   \n",
       "6       399Carth                   0                     0   \n",
       "7        418Thel                   1                     0   \n",
       "8         IgnByz                   0                     0   \n",
       "9       418Carth                   0                     0   \n",
       "10      410Carth                   0                     0   \n",
       "11      424Carth                   0                     1   \n",
       "12   401CarthJun                   0                     0   \n",
       "13      397Carth                   0                     0   \n",
       "14     397Carth2                   0                     0   \n",
       "15      407Carth                   0                     1   \n",
       "16      404Carth                   0                     1   \n",
       "17        402Mil                   0                     0   \n",
       "18   408CarthJun                   0                     0   \n",
       "19      390Carth                   0                     0   \n",
       "20        Carth4                   0                     0   \n",
       "\n",
       "   ValentinusBaianensis IanuariusTurusudensis RufinianusMuzucensis  \\\n",
       "0                     0                     0                    0   \n",
       "1                     0                     0                    1   \n",
       "2                     0                     0                    0   \n",
       "3                     0                     0                    0   \n",
       "4                     0                     1                    0   \n",
       "5                     0                     0                    0   \n",
       "6                     0                     0                    0   \n",
       "7                     0                     0                    0   \n",
       "8                     0                     0                    0   \n",
       "9                     0                     0                    0   \n",
       "10                    0                     0                    0   \n",
       "11                    0                     0                    0   \n",
       "12                    0                     0                    0   \n",
       "13                    0                     0                    0   \n",
       "14                    0                     0                    0   \n",
       "15                    0                     0                    0   \n",
       "16                    0                     0                    0   \n",
       "17                    1                     0                    0   \n",
       "18                    0                     0                    0   \n",
       "19                    0                     0                    0   \n",
       "20                    0                     0                    0   \n",
       "\n",
       "   AemilianusAraditanus AntorusIgnoti SeruusdeiTubursicuburensis  \\\n",
       "0                     0             0                          0   \n",
       "1                     0             0                          0   \n",
       "2                     0             0                          0   \n",
       "3                     0             0                          0   \n",
       "4                     0             0                          0   \n",
       "5                     0             0                          0   \n",
       "6                     0             0                          0   \n",
       "7                     0             0                          0   \n",
       "8                     0             0                          0   \n",
       "9                     1             0                          0   \n",
       "10                    0             0                          0   \n",
       "11                    0             0                          1   \n",
       "12                    0             0                          0   \n",
       "13                    0             0                          0   \n",
       "14                    0             1                          0   \n",
       "15                    0             0                          0   \n",
       "16                    0             0                          0   \n",
       "17                    0             0                          0   \n",
       "18                    0             0                          0   \n",
       "19                    0             0                          0   \n",
       "20                    0             0                          0   \n",
       "\n",
       "   GenethliusCarthaginensis  ... LaurentiusIcositanus DonatusIgnoti2  \\\n",
       "0                         0  ...                    0              0   \n",
       "1                         0  ...                    1              0   \n",
       "2                         0  ...                    0              0   \n",
       "3                         0  ...                    0              0   \n",
       "4                         0  ...                    0              0   \n",
       "5                         0  ...                    0              0   \n",
       "6                         0  ...                    0              0   \n",
       "7                         0  ...                    0              0   \n",
       "8                         0  ...                    0              0   \n",
       "9                         0  ...                    0              0   \n",
       "10                        0  ...                    0              0   \n",
       "11                        0  ...                    0              0   \n",
       "12                        0  ...                    0              0   \n",
       "13                        0  ...                    0              0   \n",
       "14                        0  ...                    0              1   \n",
       "15                        0  ...                    0              0   \n",
       "16                        0  ...                    0              0   \n",
       "17                        0  ...                    0              0   \n",
       "18                        0  ...                    0              0   \n",
       "19                        1  ...                    0              0   \n",
       "20                        0  ...                    0              0   \n",
       "\n",
       "   FortunatusNumidiae SecundusIgnoti QuoduultdeusCenturiensis IanuariusIgnoti  \\\n",
       "0                   0              0                        0               0   \n",
       "1                   0              0                        0               0   \n",
       "2                   0              0                        0               0   \n",
       "3                   0              0                        0               0   \n",
       "4                   1              0                        1               0   \n",
       "5                   0              0                        0               0   \n",
       "6                   0              0                        0               0   \n",
       "7                   0              0                        0               0   \n",
       "8                   0              0                        0               0   \n",
       "9                   0              0                        0               0   \n",
       "10                  0              0                        0               0   \n",
       "11                  0              0                        0               1   \n",
       "12                  0              0                        0               0   \n",
       "13                  0              0                        0               0   \n",
       "14                  0              0                        0               0   \n",
       "15                  0              1                        0               0   \n",
       "16                  0              0                        0               0   \n",
       "17                  0              0                        1               0   \n",
       "18                  0              0                        0               0   \n",
       "19                  0              0                        0               0   \n",
       "20                  0              0                        0               0   \n",
       "\n",
       "   SimpliciusIgnoti TutusByzacenae VincentiusCulusitanus PlacianusIgnoti  \n",
       "0                 0              0                     0               0  \n",
       "1                 0              0                     1               0  \n",
       "2                 0              0                     0               0  \n",
       "3                 0              0                     0               0  \n",
       "4                 0              0                     0               1  \n",
       "5                 1              0                     0               0  \n",
       "6                 0              0                     1               0  \n",
       "7                 0              1                     1               0  \n",
       "8                 0              0                     0               0  \n",
       "9                 0              0                     1               0  \n",
       "10                0              0                     0               0  \n",
       "11                0              0                     1               0  \n",
       "12                0              0                     0               0  \n",
       "13                0              0                     0               0  \n",
       "14                0              0                     0               0  \n",
       "15                0              0                     1               0  \n",
       "16                0              0                     0               0  \n",
       "17                0              0                     0               0  \n",
       "18                0              0                     0               0  \n",
       "19                0              0                     0               0  \n",
       "20                0              0                     0               0  \n",
       "\n",
       "[21 rows x 148 columns]"
      ]
     },
     "execution_count": 32,
     "metadata": {},
     "output_type": "execute_result"
    }
   ],
   "source": [
    "new_df"
   ]
  },
  {
   "cell_type": "code",
   "execution_count": 55,
   "id": "limited-subcommittee",
   "metadata": {},
   "outputs": [],
   "source": [
    "from collections import Counter\n",
    "import operator\n",
    "def find_groups(min_occurences):\n",
    "    total = 0\n",
    "    groupings = []\n",
    "    for person in people:\n",
    "        council_matches = []\n",
    "        pairs = []\n",
    "        counter = 0\n",
    "        for council in all_data:\n",
    "            for person2 in people:\n",
    "                if person2 != person:\n",
    "                    if person2 in all_data[council] and person in all_data[council]:\n",
    "                        pairs.append((person, person2))\n",
    "                        council_matches.append(council)\n",
    "        pairs = Counter(pairs)\n",
    "        x=0\n",
    "        for pair in pairs:\n",
    "            x=x+1\n",
    "            if pairs[pair] > min_occurences:\n",
    "                counter += 1\n",
    "                groupings.append(pair)\n",
    "        total += counter\n",
    "        final = []\n",
    "        for group in groupings:\n",
    "            sorted_list = tuple(sorted(group))\n",
    "            final.append(sorted_list)\n",
    "        final = list(set(final))\n",
    "                \n",
    "    return (len(final), final)"
   ]
  },
  {
   "cell_type": "code",
   "execution_count": 79,
   "id": "appointed-dealing",
   "metadata": {},
   "outputs": [
    {
     "data": {
      "text/plain": [
       "(70,\n",
       " [('FlorentiusHipponensiumDiarrhytorum', 'PossidiusCalamensis'),\n",
       "  ('IucundusSufetulensis', 'VincentiusCulusitanus'),\n",
       "  ('AlypiusThagastensis', 'IucundusSufetulensis'),\n",
       "  ('FeroxMacrianensis', 'UrbanusMauretaniaeSitifensis'),\n",
       "  ('AureliusCarthaginensis', 'TheasiusMemblonitanus'),\n",
       "  ('AureliusCarthaginensis', 'PossidiusCalamensis'),\n",
       "  ('HonoratusMauretaniaeSitifensis', 'MizoniusByzacenae'),\n",
       "  ('AugustinusHipponensis', 'TheasiusMemblonitanus'),\n",
       "  ('FortunatianusNeapolitanus', 'MaximinusSufetanus'),\n",
       "  ('AlypiusThagastensis', 'VincentiusCulusitanus'),\n",
       "  ('AureliusCarthaginensis', 'ElesiusIgnoti'),\n",
       "  ('EuodiusUzalensis', 'TheasiusMemblonitanus'),\n",
       "  ('AureliusCarthaginensis', 'QuoduultdeusCenturiensis'),\n",
       "  ('FortunatianusNeapolitanus', 'TheasiusMemblonitanus'),\n",
       "  ('AugustinusHipponensis', 'PossidiusCalamensis'),\n",
       "  ('MizoniusByzacenae', 'VictorianusMasclianensis'),\n",
       "  ('AugustinusHipponensis', 'EuangelusAssuritanus'),\n",
       "  ('AureliusCarthaginensis', 'FortunatianusNeapolitanus'),\n",
       "  ('FortunatianusNeapolitanus', 'PossidiusCalamensis'),\n",
       "  ('IucundusSufetulensis', 'MaximinusSufetanus'),\n",
       "  ('DonatianusTheleptensis', 'IucundusSufetulensis'),\n",
       "  ('AugustinusHipponensis', 'FortunatianusNeapolitanus'),\n",
       "  ('AureliusCarthaginensis', 'EpigoniusBullensiumregiorum'),\n",
       "  ('AureliusCarthaginensis', 'PhilologiusAdrumetinus'),\n",
       "  ('AureliusCarthaginensis', 'XantippusNumidiae'),\n",
       "  ('FeroxMacrianensis', 'MizoniusByzacenae'),\n",
       "  ('DonatianusTheleptensis', 'VincentiusCulusitanus'),\n",
       "  ('CresconiusTemonianensis', 'FortunatianusNeapolitanus'),\n",
       "  ('MizoniusByzacenae', 'UrbanusMauretaniaeSitifensis'),\n",
       "  ('ElesiusIgnoti', 'EpigoniusBullensiumregiorum'),\n",
       "  ('AugustinusHipponensis', 'AureliusCarthaginensis'),\n",
       "  ('PossidiusCalamensis', 'VincentiusCulusitanus'),\n",
       "  ('TheasiusMemblonitanus', 'VincentiusCulusitanus'),\n",
       "  ('AureliusCarthaginensis', 'PalatinusBosetensis'),\n",
       "  ('EpigoniusBullensiumregiorum', 'NumidiusMaxulitanus'),\n",
       "  ('AureliusCarthaginensis', 'DonatianusTheleptensis'),\n",
       "  ('AureliusCarthaginensis', 'VictorianusMasclianensis'),\n",
       "  ('AlypiusThagastensis', 'PossidiusCalamensis'),\n",
       "  ('EuangelusAssuritanus', 'VictorianusMasclianensis'),\n",
       "  ('AugustinusHipponensis', 'VictorianusMasclianensis'),\n",
       "  ('AureliusCarthaginensis', 'EuodiusUzalensis'),\n",
       "  ('AureliusCarthaginensis', 'IucundusSufetulensis'),\n",
       "  ('AureliusCarthaginensis', 'HonoratusMauretaniaeSitifensis'),\n",
       "  ('AugustinusHipponensis', 'DonatianusTheleptensis'),\n",
       "  ('CresconiusTemonianensis', 'DonatianusTheleptensis'),\n",
       "  ('MaximinusSufetanus', 'VincentiusCulusitanus'),\n",
       "  ('AlypiusThagastensis', 'FortunatianusNeapolitanus'),\n",
       "  ('HonoratusMauretaniaeSitifensis', 'VictorianusMasclianensis'),\n",
       "  ('UrbanusMauretaniaeSitifensis', 'VictorianusMasclianensis'),\n",
       "  ('AugustinusHipponensis', 'IucundusSufetulensis'),\n",
       "  ('AlypiusThagastensis', 'AugustinusHipponensis'),\n",
       "  ('EpigoniusBullensiumregiorum', 'VictorPuppianensis'),\n",
       "  ('CresconiusTemonianensis', 'IucundusSufetulensis'),\n",
       "  ('AureliusCarthaginensis', 'FeroxMacrianensis'),\n",
       "  ('NumidiusMaxulitanus', 'VictorPuppianensis'),\n",
       "  ('ElesiusIgnoti', 'HonoratusMauretaniaeSitifensis'),\n",
       "  ('FortunatianusNeapolitanus', 'IucundusSufetulensis'),\n",
       "  ('AureliusCarthaginensis', 'UrbanusMauretaniaeSitifensis'),\n",
       "  ('AugustinusHipponensis', 'VincentiusCulusitanus'),\n",
       "  ('AureliusCarthaginensis', 'VincentiusCulusitanus'),\n",
       "  ('AlypiusThagastensis', 'AureliusCarthaginensis'),\n",
       "  ('EpigoniusBullensiumregiorum', 'HonoratusMauretaniaeSitifensis'),\n",
       "  ('FortunatianusNeapolitanus', 'VincentiusCulusitanus'),\n",
       "  ('HonoratusMauretaniaeSitifensis', 'UrbanusMauretaniaeSitifensis'),\n",
       "  ('CresconiusTemonianensis', 'VincentiusCulusitanus'),\n",
       "  ('DonatianusTheleptensis', 'FortunatianusNeapolitanus'),\n",
       "  ('FeroxMacrianensis', 'VictorianusMasclianensis'),\n",
       "  ('AureliusCarthaginensis', 'EuangelusAssuritanus'),\n",
       "  ('FeroxMacrianensis', 'HonoratusMauretaniaeSitifensis'),\n",
       "  ('AureliusCarthaginensis', 'MizoniusByzacenae')])"
      ]
     },
     "execution_count": 79,
     "metadata": {},
     "output_type": "execute_result"
    }
   ],
   "source": [
    "find_groups(1)"
   ]
  },
  {
   "cell_type": "code",
   "execution_count": 57,
   "id": "selective-belgium",
   "metadata": {},
   "outputs": [
    {
     "data": {
      "text/plain": [
       "(7,\n",
       " [('AlypiusThagastensis', 'AureliusCarthaginensis'),\n",
       "  ('FortunatianusNeapolitanus', 'VincentiusCulusitanus'),\n",
       "  ('AureliusCarthaginensis', 'TheasiusMemblonitanus'),\n",
       "  ('AugustinusHipponensis', 'AureliusCarthaginensis'),\n",
       "  ('AlypiusThagastensis', 'AugustinusHipponensis'),\n",
       "  ('AureliusCarthaginensis', 'VincentiusCulusitanus'),\n",
       "  ('AureliusCarthaginensis', 'FortunatianusNeapolitanus')])"
      ]
     },
     "execution_count": 57,
     "metadata": {},
     "output_type": "execute_result"
    }
   ],
   "source": [
    "find_groups(3)"
   ]
  },
  {
   "cell_type": "code",
   "execution_count": 58,
   "id": "effective-desire",
   "metadata": {},
   "outputs": [
    {
     "data": {
      "text/plain": [
       "(2,\n",
       " [('AugustinusHipponensis', 'AureliusCarthaginensis'),\n",
       "  ('FortunatianusNeapolitanus', 'VincentiusCulusitanus')])"
      ]
     },
     "execution_count": 58,
     "metadata": {},
     "output_type": "execute_result"
    }
   ],
   "source": [
    "find_groups(4)"
   ]
  },
  {
   "cell_type": "code",
   "execution_count": 59,
   "id": "liked-surface",
   "metadata": {},
   "outputs": [
    {
     "data": {
      "text/plain": [
       "(1, [('AugustinusHipponensis', 'AureliusCarthaginensis')])"
      ]
     },
     "execution_count": 59,
     "metadata": {},
     "output_type": "execute_result"
    }
   ],
   "source": [
    "find_groups(5)"
   ]
  },
  {
   "cell_type": "code",
   "execution_count": 60,
   "id": "congressional-traveler",
   "metadata": {},
   "outputs": [
    {
     "data": {
      "text/plain": [
       "(1, [('AugustinusHipponensis', 'AureliusCarthaginensis')])"
      ]
     },
     "execution_count": 60,
     "metadata": {},
     "output_type": "execute_result"
    }
   ],
   "source": [
    "find_groups(6)"
   ]
  },
  {
   "cell_type": "code",
   "execution_count": 61,
   "id": "subtle-talent",
   "metadata": {},
   "outputs": [],
   "source": [
    "def find_max_overlap(min_occurences):\n",
    "    total = 0\n",
    "    groupings = []\n",
    "    for person in people:\n",
    "        pairs = []\n",
    "        counter = 0\n",
    "        for council in all_data:\n",
    "            council_matches = []\n",
    "            for person2 in people:\n",
    "                if person2 != person:\n",
    "                    for person3 in people:\n",
    "                        if person3 !=person and person3 != person2:\n",
    "                            if person2 in all_data[council] and person in all_data[council] and person3 in all_data[council]:\n",
    "                                pairs.append((person, person2, person3))\n",
    "                                council_matches.append(council)\n",
    "        pairs = Counter(pairs)\n",
    "        x=0\n",
    "        for pair in pairs:\n",
    "            x=x+1\n",
    "            if pairs[pair] > min_occurences:\n",
    "                counter += 1\n",
    "                groupings.append(pair)\n",
    "        total += counter\n",
    "        final = []\n",
    "        for group in groupings:\n",
    "            sorted_list = tuple(sorted(group))\n",
    "            final.append(sorted_list)\n",
    "        final = list(set(final))\n",
    "    return (len(final), final)"
   ]
  },
  {
   "cell_type": "code",
   "execution_count": 63,
   "id": "cheap-screw",
   "metadata": {},
   "outputs": [
    {
     "data": {
      "text/plain": [
       "(2,\n",
       " [('AlypiusThagastensis', 'AugustinusHipponensis', 'AureliusCarthaginensis'),\n",
       "  ('AureliusCarthaginensis',\n",
       "   'FortunatianusNeapolitanus',\n",
       "   'VincentiusCulusitanus')])"
      ]
     },
     "execution_count": 63,
     "metadata": {},
     "output_type": "execute_result"
    }
   ],
   "source": [
    "find_max_overlap(3)"
   ]
  },
  {
   "cell_type": "code",
   "execution_count": 35,
   "id": "fancy-allen",
   "metadata": {},
   "outputs": [],
   "source": [
    "import numpy as np\n",
    "#Feature Engineering\n",
    "df = new_df\n",
    "df.councils = pd.Categorical(df.councils)\n",
    "df['council_codes'] = df.councils.cat.codes\n",
    "features = people\n",
    "X = np.array(df[features])\n",
    "y = np.array(df['council_codes'])"
   ]
  },
  {
   "cell_type": "code",
   "execution_count": 36,
   "id": "clinical-murray",
   "metadata": {},
   "outputs": [],
   "source": [
    "from sklearn.model_selection import train_test_split\n",
    "X_train, X_test, y_train, y_test = train_test_split(X, y, test_size = 0.2, random_state = 42)"
   ]
  },
  {
   "cell_type": "code",
   "execution_count": 37,
   "id": "flexible-physics",
   "metadata": {},
   "outputs": [],
   "source": [
    "from sklearn.linear_model import LogisticRegression\n",
    "reg_log = LogisticRegression()\n",
    "reg_log.fit(X_train, y_train)\n",
    "y_pred = reg_log.predict(X_test)"
   ]
  },
  {
   "cell_type": "code",
   "execution_count": 38,
   "id": "herbal-liechtenstein",
   "metadata": {},
   "outputs": [
    {
     "name": "stdout",
     "output_type": "stream",
     "text": [
      "              precision    recall  f1-score   support\n",
      "\n",
      "           5       0.00      0.00      0.00       0.0\n",
      "           7       0.00      0.00      0.00       1.0\n",
      "           8       0.00      0.00      0.00       1.0\n",
      "          10       0.00      0.00      0.00       1.0\n",
      "          11       0.00      0.00      0.00       0.0\n",
      "          13       0.00      0.00      0.00       0.0\n",
      "          16       0.00      0.00      0.00       1.0\n",
      "          18       0.00      0.00      0.00       0.0\n",
      "          20       0.00      0.00      0.00       1.0\n",
      "\n",
      "    accuracy                           0.00       5.0\n",
      "   macro avg       0.00      0.00      0.00       5.0\n",
      "weighted avg       0.00      0.00      0.00       5.0\n",
      "\n"
     ]
    },
    {
     "name": "stderr",
     "output_type": "stream",
     "text": [
      "c:\\users\\wma22\\appdata\\local\\programs\\python\\python39\\lib\\site-packages\\sklearn\\metrics\\_classification.py:1248: UndefinedMetricWarning: Precision and F-score are ill-defined and being set to 0.0 in labels with no predicted samples. Use `zero_division` parameter to control this behavior.\n",
      "  _warn_prf(average, modifier, msg_start, len(result))\n",
      "c:\\users\\wma22\\appdata\\local\\programs\\python\\python39\\lib\\site-packages\\sklearn\\metrics\\_classification.py:1248: UndefinedMetricWarning: Recall and F-score are ill-defined and being set to 0.0 in labels with no true samples. Use `zero_division` parameter to control this behavior.\n",
      "  _warn_prf(average, modifier, msg_start, len(result))\n",
      "c:\\users\\wma22\\appdata\\local\\programs\\python\\python39\\lib\\site-packages\\sklearn\\metrics\\_classification.py:1248: UndefinedMetricWarning: Precision and F-score are ill-defined and being set to 0.0 in labels with no predicted samples. Use `zero_division` parameter to control this behavior.\n",
      "  _warn_prf(average, modifier, msg_start, len(result))\n",
      "c:\\users\\wma22\\appdata\\local\\programs\\python\\python39\\lib\\site-packages\\sklearn\\metrics\\_classification.py:1248: UndefinedMetricWarning: Recall and F-score are ill-defined and being set to 0.0 in labels with no true samples. Use `zero_division` parameter to control this behavior.\n",
      "  _warn_prf(average, modifier, msg_start, len(result))\n",
      "c:\\users\\wma22\\appdata\\local\\programs\\python\\python39\\lib\\site-packages\\sklearn\\metrics\\_classification.py:1248: UndefinedMetricWarning: Precision and F-score are ill-defined and being set to 0.0 in labels with no predicted samples. Use `zero_division` parameter to control this behavior.\n",
      "  _warn_prf(average, modifier, msg_start, len(result))\n",
      "c:\\users\\wma22\\appdata\\local\\programs\\python\\python39\\lib\\site-packages\\sklearn\\metrics\\_classification.py:1248: UndefinedMetricWarning: Recall and F-score are ill-defined and being set to 0.0 in labels with no true samples. Use `zero_division` parameter to control this behavior.\n",
      "  _warn_prf(average, modifier, msg_start, len(result))\n"
     ]
    }
   ],
   "source": [
    "from sklearn import metrics\n",
    "print(metrics.classification_report(y_test, y_pred))"
   ]
  },
  {
   "cell_type": "code",
   "execution_count": 39,
   "id": "sacred-phenomenon",
   "metadata": {},
   "outputs": [],
   "source": [
    "import pandas as pd\n",
    "from sklearn.cluster import KMeans"
   ]
  },
  {
   "cell_type": "code",
   "execution_count": 40,
   "id": "streaming-basketball",
   "metadata": {},
   "outputs": [
    {
     "name": "stdout",
     "output_type": "stream",
     "text": [
      "       councils MaximianusByzacenae TheasiusMemblonitanus  \\\n",
      "0      403Carth                   0                     0   \n",
      "1      419Carth                   0                     0   \n",
      "2      393Hippo                   0                     0   \n",
      "3   408CarthOct                   0                     0   \n",
      "4  401CarthSept                   0                     1   \n",
      "\n",
      "  ValentinusBaianensis IanuariusTurusudensis RufinianusMuzucensis  \\\n",
      "0                    0                     0                    0   \n",
      "1                    0                     0                    1   \n",
      "2                    0                     0                    0   \n",
      "3                    0                     0                    0   \n",
      "4                    0                     1                    0   \n",
      "\n",
      "  AemilianusAraditanus AntorusIgnoti SeruusdeiTubursicuburensis  \\\n",
      "0                    0             0                          0   \n",
      "1                    0             0                          0   \n",
      "2                    0             0                          0   \n",
      "3                    0             0                          0   \n",
      "4                    0             0                          0   \n",
      "\n",
      "  GenethliusCarthaginensis  ... FortunatusNumidiae SecundusIgnoti  \\\n",
      "0                        0  ...                  0              0   \n",
      "1                        0  ...                  0              0   \n",
      "2                        0  ...                  0              0   \n",
      "3                        0  ...                  0              0   \n",
      "4                        0  ...                  1              0   \n",
      "\n",
      "  QuoduultdeusCenturiensis IanuariusIgnoti SimpliciusIgnoti TutusByzacenae  \\\n",
      "0                        0               0                0              0   \n",
      "1                        0               0                0              0   \n",
      "2                        0               0                0              0   \n",
      "3                        0               0                0              0   \n",
      "4                        1               0                0              0   \n",
      "\n",
      "  VincentiusCulusitanus PlacianusIgnoti council_codes Cluster  \n",
      "0                     0               0             8       1  \n",
      "1                     1               0            16       1  \n",
      "2                     0               0             1       1  \n",
      "3                     0               0            12       1  \n",
      "4                     0               1             6       1  \n",
      "\n",
      "[5 rows x 150 columns]\n"
     ]
    }
   ],
   "source": [
    "kmeans = KMeans(n_clusters=3)\n",
    "\n",
    "y = kmeans.fit_predict(df[people])\n",
    "\n",
    "df['Cluster'] = y\n",
    "\n",
    "print(df.head())"
   ]
  },
  {
   "cell_type": "code",
   "execution_count": 78,
   "id": "dominant-society",
   "metadata": {},
   "outputs": [
    {
     "name": "stderr",
     "output_type": "stream",
     "text": [
      "c:\\users\\wma22\\appdata\\local\\programs\\python\\python39\\lib\\site-packages\\sklearn\\cluster\\_kmeans.py:786: FutureWarning:\n",
      "\n",
      "'precompute_distances' was deprecated in version 0.23 and will be removed in 1.0 (renaming of 0.25). It has no effect\n",
      "\n",
      "c:\\users\\wma22\\appdata\\local\\programs\\python\\python39\\lib\\site-packages\\sklearn\\cluster\\_kmeans.py:792: FutureWarning:\n",
      "\n",
      "'n_jobs' was deprecated in version 0.23 and will be removed in 1.0 (renaming of 0.25).\n",
      "\n",
      "<ipython-input-78-b79faf301400>:13: SettingWithCopyWarning:\n",
      "\n",
      "\n",
      "A value is trying to be set on a copy of a slice from a DataFrame.\n",
      "Try using .loc[row_indexer,col_indexer] = value instead\n",
      "\n",
      "See the caveats in the documentation: https://pandas.pydata.org/pandas-docs/stable/user_guide/indexing.html#returning-a-view-versus-a-copy\n",
      "\n"
     ]
    },
    {
     "data": {
      "application/vnd.plotly.v1+json": {
       "config": {
        "plotlyServerURL": "https://plot.ly"
       },
       "data": [
        {
         "hovertemplate": "pca1=%{x}<br>pca2=%{y}<br>councils=%{text}<extra></extra>",
         "legendgroup": "",
         "marker": {
          "color": "#636efa",
          "symbol": "circle"
         },
         "mode": "markers+text",
         "name": "",
         "orientation": "v",
         "showlegend": false,
         "text": [
          "403Carth",
          "419Carth",
          "393Hippo",
          "408CarthOct",
          "401CarthSept",
          "427Hippo",
          "399Carth",
          "418Carth",
          "410Carth",
          "424Carth",
          "401CarthJun",
          "397Carth",
          "407Carth",
          "404Carth",
          "402Mil",
          "408CarthJun",
          "390Carth",
          "Carth4"
         ],
         "type": "scatter",
         "x": [
          -0.3958260543684175,
          4.727324159361979,
          -0.8409882099711302,
          -0.7359578481523591,
          -0.857329682563978,
          -0.6035175487151344,
          -0.5421143598907078,
          2.7809294619558167,
          -0.681703423548509,
          -0.43796555772104595,
          -0.68368771598105,
          -0.9291211509731988,
          -0.2534538169278788,
          -0.7606415168425658,
          -0.7820735245307279,
          -0.49339574550570675,
          -0.8264652038472033,
          -0.47501527400646665
         ],
         "xaxis": "x",
         "y": [
          -0.16805958524513484,
          1.2948083339332561,
          0.1500885355309186,
          -0.550984917747865,
          0.3753635886716194,
          -0.15310757138437334,
          -0.407034097863452,
          0.3235060097827271,
          -0.5651500555998271,
          -0.517195055284083,
          -0.32951378648112956,
          0.6222742647151526,
          -0.42981089319523125,
          -0.3584155411778449,
          -0.39351480996268934,
          -0.5503169289501874,
          -0.05757095830070373,
          -0.2143397704623033
         ],
         "yaxis": "y"
        }
       ],
       "layout": {
        "height": 800,
        "legend": {
         "tracegroupgap": 0
        },
        "margin": {
         "t": 60
        },
        "template": {
         "data": {
          "bar": [
           {
            "error_x": {
             "color": "#2a3f5f"
            },
            "error_y": {
             "color": "#2a3f5f"
            },
            "marker": {
             "line": {
              "color": "#E5ECF6",
              "width": 0.5
             }
            },
            "type": "bar"
           }
          ],
          "barpolar": [
           {
            "marker": {
             "line": {
              "color": "#E5ECF6",
              "width": 0.5
             }
            },
            "type": "barpolar"
           }
          ],
          "carpet": [
           {
            "aaxis": {
             "endlinecolor": "#2a3f5f",
             "gridcolor": "white",
             "linecolor": "white",
             "minorgridcolor": "white",
             "startlinecolor": "#2a3f5f"
            },
            "baxis": {
             "endlinecolor": "#2a3f5f",
             "gridcolor": "white",
             "linecolor": "white",
             "minorgridcolor": "white",
             "startlinecolor": "#2a3f5f"
            },
            "type": "carpet"
           }
          ],
          "choropleth": [
           {
            "colorbar": {
             "outlinewidth": 0,
             "ticks": ""
            },
            "type": "choropleth"
           }
          ],
          "contour": [
           {
            "colorbar": {
             "outlinewidth": 0,
             "ticks": ""
            },
            "colorscale": [
             [
              0,
              "#0d0887"
             ],
             [
              0.1111111111111111,
              "#46039f"
             ],
             [
              0.2222222222222222,
              "#7201a8"
             ],
             [
              0.3333333333333333,
              "#9c179e"
             ],
             [
              0.4444444444444444,
              "#bd3786"
             ],
             [
              0.5555555555555556,
              "#d8576b"
             ],
             [
              0.6666666666666666,
              "#ed7953"
             ],
             [
              0.7777777777777778,
              "#fb9f3a"
             ],
             [
              0.8888888888888888,
              "#fdca26"
             ],
             [
              1,
              "#f0f921"
             ]
            ],
            "type": "contour"
           }
          ],
          "contourcarpet": [
           {
            "colorbar": {
             "outlinewidth": 0,
             "ticks": ""
            },
            "type": "contourcarpet"
           }
          ],
          "heatmap": [
           {
            "colorbar": {
             "outlinewidth": 0,
             "ticks": ""
            },
            "colorscale": [
             [
              0,
              "#0d0887"
             ],
             [
              0.1111111111111111,
              "#46039f"
             ],
             [
              0.2222222222222222,
              "#7201a8"
             ],
             [
              0.3333333333333333,
              "#9c179e"
             ],
             [
              0.4444444444444444,
              "#bd3786"
             ],
             [
              0.5555555555555556,
              "#d8576b"
             ],
             [
              0.6666666666666666,
              "#ed7953"
             ],
             [
              0.7777777777777778,
              "#fb9f3a"
             ],
             [
              0.8888888888888888,
              "#fdca26"
             ],
             [
              1,
              "#f0f921"
             ]
            ],
            "type": "heatmap"
           }
          ],
          "heatmapgl": [
           {
            "colorbar": {
             "outlinewidth": 0,
             "ticks": ""
            },
            "colorscale": [
             [
              0,
              "#0d0887"
             ],
             [
              0.1111111111111111,
              "#46039f"
             ],
             [
              0.2222222222222222,
              "#7201a8"
             ],
             [
              0.3333333333333333,
              "#9c179e"
             ],
             [
              0.4444444444444444,
              "#bd3786"
             ],
             [
              0.5555555555555556,
              "#d8576b"
             ],
             [
              0.6666666666666666,
              "#ed7953"
             ],
             [
              0.7777777777777778,
              "#fb9f3a"
             ],
             [
              0.8888888888888888,
              "#fdca26"
             ],
             [
              1,
              "#f0f921"
             ]
            ],
            "type": "heatmapgl"
           }
          ],
          "histogram": [
           {
            "marker": {
             "colorbar": {
              "outlinewidth": 0,
              "ticks": ""
             }
            },
            "type": "histogram"
           }
          ],
          "histogram2d": [
           {
            "colorbar": {
             "outlinewidth": 0,
             "ticks": ""
            },
            "colorscale": [
             [
              0,
              "#0d0887"
             ],
             [
              0.1111111111111111,
              "#46039f"
             ],
             [
              0.2222222222222222,
              "#7201a8"
             ],
             [
              0.3333333333333333,
              "#9c179e"
             ],
             [
              0.4444444444444444,
              "#bd3786"
             ],
             [
              0.5555555555555556,
              "#d8576b"
             ],
             [
              0.6666666666666666,
              "#ed7953"
             ],
             [
              0.7777777777777778,
              "#fb9f3a"
             ],
             [
              0.8888888888888888,
              "#fdca26"
             ],
             [
              1,
              "#f0f921"
             ]
            ],
            "type": "histogram2d"
           }
          ],
          "histogram2dcontour": [
           {
            "colorbar": {
             "outlinewidth": 0,
             "ticks": ""
            },
            "colorscale": [
             [
              0,
              "#0d0887"
             ],
             [
              0.1111111111111111,
              "#46039f"
             ],
             [
              0.2222222222222222,
              "#7201a8"
             ],
             [
              0.3333333333333333,
              "#9c179e"
             ],
             [
              0.4444444444444444,
              "#bd3786"
             ],
             [
              0.5555555555555556,
              "#d8576b"
             ],
             [
              0.6666666666666666,
              "#ed7953"
             ],
             [
              0.7777777777777778,
              "#fb9f3a"
             ],
             [
              0.8888888888888888,
              "#fdca26"
             ],
             [
              1,
              "#f0f921"
             ]
            ],
            "type": "histogram2dcontour"
           }
          ],
          "mesh3d": [
           {
            "colorbar": {
             "outlinewidth": 0,
             "ticks": ""
            },
            "type": "mesh3d"
           }
          ],
          "parcoords": [
           {
            "line": {
             "colorbar": {
              "outlinewidth": 0,
              "ticks": ""
             }
            },
            "type": "parcoords"
           }
          ],
          "pie": [
           {
            "automargin": true,
            "type": "pie"
           }
          ],
          "scatter": [
           {
            "marker": {
             "colorbar": {
              "outlinewidth": 0,
              "ticks": ""
             }
            },
            "type": "scatter"
           }
          ],
          "scatter3d": [
           {
            "line": {
             "colorbar": {
              "outlinewidth": 0,
              "ticks": ""
             }
            },
            "marker": {
             "colorbar": {
              "outlinewidth": 0,
              "ticks": ""
             }
            },
            "type": "scatter3d"
           }
          ],
          "scattercarpet": [
           {
            "marker": {
             "colorbar": {
              "outlinewidth": 0,
              "ticks": ""
             }
            },
            "type": "scattercarpet"
           }
          ],
          "scattergeo": [
           {
            "marker": {
             "colorbar": {
              "outlinewidth": 0,
              "ticks": ""
             }
            },
            "type": "scattergeo"
           }
          ],
          "scattergl": [
           {
            "marker": {
             "colorbar": {
              "outlinewidth": 0,
              "ticks": ""
             }
            },
            "type": "scattergl"
           }
          ],
          "scattermapbox": [
           {
            "marker": {
             "colorbar": {
              "outlinewidth": 0,
              "ticks": ""
             }
            },
            "type": "scattermapbox"
           }
          ],
          "scatterpolar": [
           {
            "marker": {
             "colorbar": {
              "outlinewidth": 0,
              "ticks": ""
             }
            },
            "type": "scatterpolar"
           }
          ],
          "scatterpolargl": [
           {
            "marker": {
             "colorbar": {
              "outlinewidth": 0,
              "ticks": ""
             }
            },
            "type": "scatterpolargl"
           }
          ],
          "scatterternary": [
           {
            "marker": {
             "colorbar": {
              "outlinewidth": 0,
              "ticks": ""
             }
            },
            "type": "scatterternary"
           }
          ],
          "surface": [
           {
            "colorbar": {
             "outlinewidth": 0,
             "ticks": ""
            },
            "colorscale": [
             [
              0,
              "#0d0887"
             ],
             [
              0.1111111111111111,
              "#46039f"
             ],
             [
              0.2222222222222222,
              "#7201a8"
             ],
             [
              0.3333333333333333,
              "#9c179e"
             ],
             [
              0.4444444444444444,
              "#bd3786"
             ],
             [
              0.5555555555555556,
              "#d8576b"
             ],
             [
              0.6666666666666666,
              "#ed7953"
             ],
             [
              0.7777777777777778,
              "#fb9f3a"
             ],
             [
              0.8888888888888888,
              "#fdca26"
             ],
             [
              1,
              "#f0f921"
             ]
            ],
            "type": "surface"
           }
          ],
          "table": [
           {
            "cells": {
             "fill": {
              "color": "#EBF0F8"
             },
             "line": {
              "color": "white"
             }
            },
            "header": {
             "fill": {
              "color": "#C8D4E3"
             },
             "line": {
              "color": "white"
             }
            },
            "type": "table"
           }
          ]
         },
         "layout": {
          "annotationdefaults": {
           "arrowcolor": "#2a3f5f",
           "arrowhead": 0,
           "arrowwidth": 1
          },
          "autotypenumbers": "strict",
          "coloraxis": {
           "colorbar": {
            "outlinewidth": 0,
            "ticks": ""
           }
          },
          "colorscale": {
           "diverging": [
            [
             0,
             "#8e0152"
            ],
            [
             0.1,
             "#c51b7d"
            ],
            [
             0.2,
             "#de77ae"
            ],
            [
             0.3,
             "#f1b6da"
            ],
            [
             0.4,
             "#fde0ef"
            ],
            [
             0.5,
             "#f7f7f7"
            ],
            [
             0.6,
             "#e6f5d0"
            ],
            [
             0.7,
             "#b8e186"
            ],
            [
             0.8,
             "#7fbc41"
            ],
            [
             0.9,
             "#4d9221"
            ],
            [
             1,
             "#276419"
            ]
           ],
           "sequential": [
            [
             0,
             "#0d0887"
            ],
            [
             0.1111111111111111,
             "#46039f"
            ],
            [
             0.2222222222222222,
             "#7201a8"
            ],
            [
             0.3333333333333333,
             "#9c179e"
            ],
            [
             0.4444444444444444,
             "#bd3786"
            ],
            [
             0.5555555555555556,
             "#d8576b"
            ],
            [
             0.6666666666666666,
             "#ed7953"
            ],
            [
             0.7777777777777778,
             "#fb9f3a"
            ],
            [
             0.8888888888888888,
             "#fdca26"
            ],
            [
             1,
             "#f0f921"
            ]
           ],
           "sequentialminus": [
            [
             0,
             "#0d0887"
            ],
            [
             0.1111111111111111,
             "#46039f"
            ],
            [
             0.2222222222222222,
             "#7201a8"
            ],
            [
             0.3333333333333333,
             "#9c179e"
            ],
            [
             0.4444444444444444,
             "#bd3786"
            ],
            [
             0.5555555555555556,
             "#d8576b"
            ],
            [
             0.6666666666666666,
             "#ed7953"
            ],
            [
             0.7777777777777778,
             "#fb9f3a"
            ],
            [
             0.8888888888888888,
             "#fdca26"
            ],
            [
             1,
             "#f0f921"
            ]
           ]
          },
          "colorway": [
           "#636efa",
           "#EF553B",
           "#00cc96",
           "#ab63fa",
           "#FFA15A",
           "#19d3f3",
           "#FF6692",
           "#B6E880",
           "#FF97FF",
           "#FECB52"
          ],
          "font": {
           "color": "#2a3f5f"
          },
          "geo": {
           "bgcolor": "white",
           "lakecolor": "white",
           "landcolor": "#E5ECF6",
           "showlakes": true,
           "showland": true,
           "subunitcolor": "white"
          },
          "hoverlabel": {
           "align": "left"
          },
          "hovermode": "closest",
          "mapbox": {
           "style": "light"
          },
          "paper_bgcolor": "white",
          "plot_bgcolor": "#E5ECF6",
          "polar": {
           "angularaxis": {
            "gridcolor": "white",
            "linecolor": "white",
            "ticks": ""
           },
           "bgcolor": "#E5ECF6",
           "radialaxis": {
            "gridcolor": "white",
            "linecolor": "white",
            "ticks": ""
           }
          },
          "scene": {
           "xaxis": {
            "backgroundcolor": "#E5ECF6",
            "gridcolor": "white",
            "gridwidth": 2,
            "linecolor": "white",
            "showbackground": true,
            "ticks": "",
            "zerolinecolor": "white"
           },
           "yaxis": {
            "backgroundcolor": "#E5ECF6",
            "gridcolor": "white",
            "gridwidth": 2,
            "linecolor": "white",
            "showbackground": true,
            "ticks": "",
            "zerolinecolor": "white"
           },
           "zaxis": {
            "backgroundcolor": "#E5ECF6",
            "gridcolor": "white",
            "gridwidth": 2,
            "linecolor": "white",
            "showbackground": true,
            "ticks": "",
            "zerolinecolor": "white"
           }
          },
          "shapedefaults": {
           "line": {
            "color": "#2a3f5f"
           }
          },
          "ternary": {
           "aaxis": {
            "gridcolor": "white",
            "linecolor": "white",
            "ticks": ""
           },
           "baxis": {
            "gridcolor": "white",
            "linecolor": "white",
            "ticks": ""
           },
           "bgcolor": "#E5ECF6",
           "caxis": {
            "gridcolor": "white",
            "linecolor": "white",
            "ticks": ""
           }
          },
          "title": {
           "x": 0.05
          },
          "xaxis": {
           "automargin": true,
           "gridcolor": "white",
           "linecolor": "white",
           "ticks": "",
           "title": {
            "standoff": 15
           },
           "zerolinecolor": "white",
           "zerolinewidth": 2
          },
          "yaxis": {
           "automargin": true,
           "gridcolor": "white",
           "linecolor": "white",
           "ticks": "",
           "title": {
            "standoff": 15
           },
           "zerolinecolor": "white",
           "zerolinewidth": 2
          }
         }
        },
        "title": {
         "text": "K-Means Clustering of Council Data"
        },
        "xaxis": {
         "anchor": "y",
         "domain": [
          0,
          1
         ],
         "title": {
          "text": "pca1"
         }
        },
        "yaxis": {
         "anchor": "x",
         "domain": [
          0,
          1
         ],
         "title": {
          "text": "pca2"
         }
        }
       }
      },
      "text/html": [
       "<div>                            <div id=\"9bf420ee-311f-48e8-a86e-b050ad562a9b\" class=\"plotly-graph-div\" style=\"height:800px; width:100%;\"></div>            <script type=\"text/javascript\">                require([\"plotly\"], function(Plotly) {                    window.PLOTLYENV=window.PLOTLYENV || {};                                    if (document.getElementById(\"9bf420ee-311f-48e8-a86e-b050ad562a9b\")) {                    Plotly.newPlot(                        \"9bf420ee-311f-48e8-a86e-b050ad562a9b\",                        [{\"hovertemplate\": \"pca1=%{x}<br>pca2=%{y}<br>councils=%{text}<extra></extra>\", \"legendgroup\": \"\", \"marker\": {\"color\": \"#636efa\", \"symbol\": \"circle\"}, \"mode\": \"markers+text\", \"name\": \"\", \"orientation\": \"v\", \"showlegend\": false, \"text\": [\"403Carth\", \"419Carth\", \"393Hippo\", \"408CarthOct\", \"401CarthSept\", \"427Hippo\", \"399Carth\", \"418Carth\", \"410Carth\", \"424Carth\", \"401CarthJun\", \"397Carth\", \"407Carth\", \"404Carth\", \"402Mil\", \"408CarthJun\", \"390Carth\", \"Carth4\"], \"type\": \"scatter\", \"x\": [-0.3958260543684175, 4.727324159361979, -0.8409882099711302, -0.7359578481523591, -0.857329682563978, -0.6035175487151344, -0.5421143598907078, 2.7809294619558167, -0.681703423548509, -0.43796555772104595, -0.68368771598105, -0.9291211509731988, -0.2534538169278788, -0.7606415168425658, -0.7820735245307279, -0.49339574550570675, -0.8264652038472033, -0.47501527400646665], \"xaxis\": \"x\", \"y\": [-0.16805958524513484, 1.2948083339332561, 0.1500885355309186, -0.550984917747865, 0.3753635886716194, -0.15310757138437334, -0.407034097863452, 0.3235060097827271, -0.5651500555998271, -0.517195055284083, -0.32951378648112956, 0.6222742647151526, -0.42981089319523125, -0.3584155411778449, -0.39351480996268934, -0.5503169289501874, -0.05757095830070373, -0.2143397704623033], \"yaxis\": \"y\"}],                        {\"height\": 800, \"legend\": {\"tracegroupgap\": 0}, \"margin\": {\"t\": 60}, \"template\": {\"data\": {\"bar\": [{\"error_x\": {\"color\": \"#2a3f5f\"}, \"error_y\": {\"color\": \"#2a3f5f\"}, \"marker\": {\"line\": {\"color\": \"#E5ECF6\", \"width\": 0.5}}, \"type\": \"bar\"}], \"barpolar\": [{\"marker\": {\"line\": {\"color\": \"#E5ECF6\", \"width\": 0.5}}, \"type\": \"barpolar\"}], \"carpet\": [{\"aaxis\": {\"endlinecolor\": \"#2a3f5f\", \"gridcolor\": \"white\", \"linecolor\": \"white\", \"minorgridcolor\": \"white\", \"startlinecolor\": \"#2a3f5f\"}, \"baxis\": {\"endlinecolor\": \"#2a3f5f\", \"gridcolor\": \"white\", \"linecolor\": \"white\", \"minorgridcolor\": \"white\", \"startlinecolor\": \"#2a3f5f\"}, \"type\": \"carpet\"}], \"choropleth\": [{\"colorbar\": {\"outlinewidth\": 0, \"ticks\": \"\"}, \"type\": \"choropleth\"}], \"contour\": [{\"colorbar\": {\"outlinewidth\": 0, \"ticks\": \"\"}, \"colorscale\": [[0.0, \"#0d0887\"], [0.1111111111111111, \"#46039f\"], [0.2222222222222222, \"#7201a8\"], [0.3333333333333333, \"#9c179e\"], [0.4444444444444444, \"#bd3786\"], [0.5555555555555556, \"#d8576b\"], [0.6666666666666666, \"#ed7953\"], [0.7777777777777778, \"#fb9f3a\"], [0.8888888888888888, \"#fdca26\"], [1.0, \"#f0f921\"]], \"type\": \"contour\"}], \"contourcarpet\": [{\"colorbar\": {\"outlinewidth\": 0, \"ticks\": \"\"}, \"type\": \"contourcarpet\"}], \"heatmap\": [{\"colorbar\": {\"outlinewidth\": 0, \"ticks\": \"\"}, \"colorscale\": [[0.0, \"#0d0887\"], [0.1111111111111111, \"#46039f\"], [0.2222222222222222, \"#7201a8\"], [0.3333333333333333, \"#9c179e\"], [0.4444444444444444, \"#bd3786\"], [0.5555555555555556, \"#d8576b\"], [0.6666666666666666, \"#ed7953\"], [0.7777777777777778, \"#fb9f3a\"], [0.8888888888888888, \"#fdca26\"], [1.0, \"#f0f921\"]], \"type\": \"heatmap\"}], \"heatmapgl\": [{\"colorbar\": {\"outlinewidth\": 0, \"ticks\": \"\"}, \"colorscale\": [[0.0, \"#0d0887\"], [0.1111111111111111, \"#46039f\"], [0.2222222222222222, \"#7201a8\"], [0.3333333333333333, \"#9c179e\"], [0.4444444444444444, \"#bd3786\"], [0.5555555555555556, \"#d8576b\"], [0.6666666666666666, \"#ed7953\"], [0.7777777777777778, \"#fb9f3a\"], [0.8888888888888888, \"#fdca26\"], [1.0, \"#f0f921\"]], \"type\": \"heatmapgl\"}], \"histogram\": [{\"marker\": {\"colorbar\": {\"outlinewidth\": 0, \"ticks\": \"\"}}, \"type\": \"histogram\"}], \"histogram2d\": [{\"colorbar\": {\"outlinewidth\": 0, \"ticks\": \"\"}, \"colorscale\": [[0.0, \"#0d0887\"], [0.1111111111111111, \"#46039f\"], [0.2222222222222222, \"#7201a8\"], [0.3333333333333333, \"#9c179e\"], [0.4444444444444444, \"#bd3786\"], [0.5555555555555556, \"#d8576b\"], [0.6666666666666666, \"#ed7953\"], [0.7777777777777778, \"#fb9f3a\"], [0.8888888888888888, \"#fdca26\"], [1.0, \"#f0f921\"]], \"type\": \"histogram2d\"}], \"histogram2dcontour\": [{\"colorbar\": {\"outlinewidth\": 0, \"ticks\": \"\"}, \"colorscale\": [[0.0, \"#0d0887\"], [0.1111111111111111, \"#46039f\"], [0.2222222222222222, \"#7201a8\"], [0.3333333333333333, \"#9c179e\"], [0.4444444444444444, \"#bd3786\"], [0.5555555555555556, \"#d8576b\"], [0.6666666666666666, \"#ed7953\"], [0.7777777777777778, \"#fb9f3a\"], [0.8888888888888888, \"#fdca26\"], [1.0, \"#f0f921\"]], \"type\": \"histogram2dcontour\"}], \"mesh3d\": [{\"colorbar\": {\"outlinewidth\": 0, \"ticks\": \"\"}, \"type\": \"mesh3d\"}], \"parcoords\": [{\"line\": {\"colorbar\": {\"outlinewidth\": 0, \"ticks\": \"\"}}, \"type\": \"parcoords\"}], \"pie\": [{\"automargin\": true, \"type\": \"pie\"}], \"scatter\": [{\"marker\": {\"colorbar\": {\"outlinewidth\": 0, \"ticks\": \"\"}}, \"type\": \"scatter\"}], \"scatter3d\": [{\"line\": {\"colorbar\": {\"outlinewidth\": 0, \"ticks\": \"\"}}, \"marker\": {\"colorbar\": {\"outlinewidth\": 0, \"ticks\": \"\"}}, \"type\": \"scatter3d\"}], \"scattercarpet\": [{\"marker\": {\"colorbar\": {\"outlinewidth\": 0, \"ticks\": \"\"}}, \"type\": \"scattercarpet\"}], \"scattergeo\": [{\"marker\": {\"colorbar\": {\"outlinewidth\": 0, \"ticks\": \"\"}}, \"type\": \"scattergeo\"}], \"scattergl\": [{\"marker\": {\"colorbar\": {\"outlinewidth\": 0, \"ticks\": \"\"}}, \"type\": \"scattergl\"}], \"scattermapbox\": [{\"marker\": {\"colorbar\": {\"outlinewidth\": 0, \"ticks\": \"\"}}, \"type\": \"scattermapbox\"}], \"scatterpolar\": [{\"marker\": {\"colorbar\": {\"outlinewidth\": 0, \"ticks\": \"\"}}, \"type\": \"scatterpolar\"}], \"scatterpolargl\": [{\"marker\": {\"colorbar\": {\"outlinewidth\": 0, \"ticks\": \"\"}}, \"type\": \"scatterpolargl\"}], \"scatterternary\": [{\"marker\": {\"colorbar\": {\"outlinewidth\": 0, \"ticks\": \"\"}}, \"type\": \"scatterternary\"}], \"surface\": [{\"colorbar\": {\"outlinewidth\": 0, \"ticks\": \"\"}, \"colorscale\": [[0.0, \"#0d0887\"], [0.1111111111111111, \"#46039f\"], [0.2222222222222222, \"#7201a8\"], [0.3333333333333333, \"#9c179e\"], [0.4444444444444444, \"#bd3786\"], [0.5555555555555556, \"#d8576b\"], [0.6666666666666666, \"#ed7953\"], [0.7777777777777778, \"#fb9f3a\"], [0.8888888888888888, \"#fdca26\"], [1.0, \"#f0f921\"]], \"type\": \"surface\"}], \"table\": [{\"cells\": {\"fill\": {\"color\": \"#EBF0F8\"}, \"line\": {\"color\": \"white\"}}, \"header\": {\"fill\": {\"color\": \"#C8D4E3\"}, \"line\": {\"color\": \"white\"}}, \"type\": \"table\"}]}, \"layout\": {\"annotationdefaults\": {\"arrowcolor\": \"#2a3f5f\", \"arrowhead\": 0, \"arrowwidth\": 1}, \"autotypenumbers\": \"strict\", \"coloraxis\": {\"colorbar\": {\"outlinewidth\": 0, \"ticks\": \"\"}}, \"colorscale\": {\"diverging\": [[0, \"#8e0152\"], [0.1, \"#c51b7d\"], [0.2, \"#de77ae\"], [0.3, \"#f1b6da\"], [0.4, \"#fde0ef\"], [0.5, \"#f7f7f7\"], [0.6, \"#e6f5d0\"], [0.7, \"#b8e186\"], [0.8, \"#7fbc41\"], [0.9, \"#4d9221\"], [1, \"#276419\"]], \"sequential\": [[0.0, \"#0d0887\"], [0.1111111111111111, \"#46039f\"], [0.2222222222222222, \"#7201a8\"], [0.3333333333333333, \"#9c179e\"], [0.4444444444444444, \"#bd3786\"], [0.5555555555555556, \"#d8576b\"], [0.6666666666666666, \"#ed7953\"], [0.7777777777777778, \"#fb9f3a\"], [0.8888888888888888, \"#fdca26\"], [1.0, \"#f0f921\"]], \"sequentialminus\": [[0.0, \"#0d0887\"], [0.1111111111111111, \"#46039f\"], [0.2222222222222222, \"#7201a8\"], [0.3333333333333333, \"#9c179e\"], [0.4444444444444444, \"#bd3786\"], [0.5555555555555556, \"#d8576b\"], [0.6666666666666666, \"#ed7953\"], [0.7777777777777778, \"#fb9f3a\"], [0.8888888888888888, \"#fdca26\"], [1.0, \"#f0f921\"]]}, \"colorway\": [\"#636efa\", \"#EF553B\", \"#00cc96\", \"#ab63fa\", \"#FFA15A\", \"#19d3f3\", \"#FF6692\", \"#B6E880\", \"#FF97FF\", \"#FECB52\"], \"font\": {\"color\": \"#2a3f5f\"}, \"geo\": {\"bgcolor\": \"white\", \"lakecolor\": \"white\", \"landcolor\": \"#E5ECF6\", \"showlakes\": true, \"showland\": true, \"subunitcolor\": \"white\"}, \"hoverlabel\": {\"align\": \"left\"}, \"hovermode\": \"closest\", \"mapbox\": {\"style\": \"light\"}, \"paper_bgcolor\": \"white\", \"plot_bgcolor\": \"#E5ECF6\", \"polar\": {\"angularaxis\": {\"gridcolor\": \"white\", \"linecolor\": \"white\", \"ticks\": \"\"}, \"bgcolor\": \"#E5ECF6\", \"radialaxis\": {\"gridcolor\": \"white\", \"linecolor\": \"white\", \"ticks\": \"\"}}, \"scene\": {\"xaxis\": {\"backgroundcolor\": \"#E5ECF6\", \"gridcolor\": \"white\", \"gridwidth\": 2, \"linecolor\": \"white\", \"showbackground\": true, \"ticks\": \"\", \"zerolinecolor\": \"white\"}, \"yaxis\": {\"backgroundcolor\": \"#E5ECF6\", \"gridcolor\": \"white\", \"gridwidth\": 2, \"linecolor\": \"white\", \"showbackground\": true, \"ticks\": \"\", \"zerolinecolor\": \"white\"}, \"zaxis\": {\"backgroundcolor\": \"#E5ECF6\", \"gridcolor\": \"white\", \"gridwidth\": 2, \"linecolor\": \"white\", \"showbackground\": true, \"ticks\": \"\", \"zerolinecolor\": \"white\"}}, \"shapedefaults\": {\"line\": {\"color\": \"#2a3f5f\"}}, \"ternary\": {\"aaxis\": {\"gridcolor\": \"white\", \"linecolor\": \"white\", \"ticks\": \"\"}, \"baxis\": {\"gridcolor\": \"white\", \"linecolor\": \"white\", \"ticks\": \"\"}, \"bgcolor\": \"#E5ECF6\", \"caxis\": {\"gridcolor\": \"white\", \"linecolor\": \"white\", \"ticks\": \"\"}}, \"title\": {\"x\": 0.05}, \"xaxis\": {\"automargin\": true, \"gridcolor\": \"white\", \"linecolor\": \"white\", \"ticks\": \"\", \"title\": {\"standoff\": 15}, \"zerolinecolor\": \"white\", \"zerolinewidth\": 2}, \"yaxis\": {\"automargin\": true, \"gridcolor\": \"white\", \"linecolor\": \"white\", \"ticks\": \"\", \"title\": {\"standoff\": 15}, \"zerolinecolor\": \"white\", \"zerolinewidth\": 2}}}, \"title\": {\"text\": \"K-Means Clustering of Council Data\"}, \"xaxis\": {\"anchor\": \"y\", \"domain\": [0.0, 1.0], \"title\": {\"text\": \"pca1\"}}, \"yaxis\": {\"anchor\": \"x\", \"domain\": [0.0, 1.0], \"title\": {\"text\": \"pca2\"}}},                        {\"responsive\": true}                    ).then(function(){\n",
       "                            \n",
       "var gd = document.getElementById('9bf420ee-311f-48e8-a86e-b050ad562a9b');\n",
       "var x = new MutationObserver(function (mutations, observer) {{\n",
       "        var display = window.getComputedStyle(gd).display;\n",
       "        if (!display || display === 'none') {{\n",
       "            console.log([gd, 'removed!']);\n",
       "            Plotly.purge(gd);\n",
       "            observer.disconnect();\n",
       "        }}\n",
       "}});\n",
       "\n",
       "// Listen for the removal of the full notebook cells\n",
       "var notebookContainer = gd.closest('#notebook-container');\n",
       "if (notebookContainer) {{\n",
       "    x.observe(notebookContainer, {childList: true});\n",
       "}}\n",
       "\n",
       "// Listen for the clearing of the current output cell\n",
       "var outputEl = gd.closest('.output');\n",
       "if (outputEl) {{\n",
       "    x.observe(outputEl, {childList: true});\n",
       "}}\n",
       "\n",
       "                        })                };                });            </script>        </div>"
      ]
     },
     "metadata": {},
     "output_type": "display_data"
    }
   ],
   "source": [
    "import pandas as pd\n",
    "import seaborn as sns\n",
    "import matplotlib.pyplot as plt\n",
    "from sklearn.decomposition import PCA\n",
    "from sklearn.cluster import KMeans\n",
    "### Run PCA on the data and reduce the dimensions in pca_num_components dimensions\n",
    "### Get all the features columns except the class\n",
    "features = list(df.columns)[1:-2]\n",
    "\n",
    "### Get the features data\n",
    "data = df[features]\n",
    "clustering_kmeans = KMeans(n_clusters=5, precompute_distances=\"auto\", n_jobs=-1)\n",
    "data['clusters'] = clustering_kmeans.fit_predict(data)\n",
    "reduced_data = PCA(n_components=2).fit_transform(data)\n",
    "results = pd.DataFrame(reduced_data,columns=['pca1','pca2'])\n",
    "results[\"councils\"] = councils\n",
    "# plt.scatter(x=\"pca1\", y=\"pca2\", data=results)\n",
    "# plt.title('K-means Clustering with 2 dimensions')\n",
    "# plt.show()\n",
    "results.drop([8, 7, 14],axis=0,inplace=True)\n",
    "import pandas as pd\n",
    "pd.options.plotting.backend = \"plotly\"\n",
    "fig = results.plot.scatter(x=\"pca1\", y=\"pca2\", text=\"councils\")\n",
    "fig.update_layout(\n",
    "    height=800,\n",
    "    title_text='K-Means Clustering of Council Data'\n",
    ")\n",
    "fig.show()"
   ]
  },
  {
   "cell_type": "code",
   "execution_count": 74,
   "id": "original-exhaust",
   "metadata": {},
   "outputs": [
    {
     "data": {
      "text/html": [
       "<div>\n",
       "<style scoped>\n",
       "    .dataframe tbody tr th:only-of-type {\n",
       "        vertical-align: middle;\n",
       "    }\n",
       "\n",
       "    .dataframe tbody tr th {\n",
       "        vertical-align: top;\n",
       "    }\n",
       "\n",
       "    .dataframe thead th {\n",
       "        text-align: right;\n",
       "    }\n",
       "</style>\n",
       "<table border=\"1\" class=\"dataframe\">\n",
       "  <thead>\n",
       "    <tr style=\"text-align: right;\">\n",
       "      <th></th>\n",
       "      <th>pca1</th>\n",
       "      <th>pca2</th>\n",
       "      <th>councils</th>\n",
       "    </tr>\n",
       "  </thead>\n",
       "  <tbody>\n",
       "    <tr>\n",
       "      <th>0</th>\n",
       "      <td>-0.123220</td>\n",
       "      <td>-0.557616</td>\n",
       "      <td>403Carth</td>\n",
       "    </tr>\n",
       "    <tr>\n",
       "      <th>1</th>\n",
       "      <td>1.068705</td>\n",
       "      <td>-1.243450</td>\n",
       "      <td>419Carth</td>\n",
       "    </tr>\n",
       "    <tr>\n",
       "      <th>2</th>\n",
       "      <td>-0.581088</td>\n",
       "      <td>0.101255</td>\n",
       "      <td>393Hippo</td>\n",
       "    </tr>\n",
       "    <tr>\n",
       "      <th>3</th>\n",
       "      <td>-0.075019</td>\n",
       "      <td>-0.372992</td>\n",
       "      <td>408CarthOct</td>\n",
       "    </tr>\n",
       "    <tr>\n",
       "      <th>4</th>\n",
       "      <td>-0.898318</td>\n",
       "      <td>-0.640563</td>\n",
       "      <td>401CarthSept</td>\n",
       "    </tr>\n",
       "    <tr>\n",
       "      <th>5</th>\n",
       "      <td>-0.270999</td>\n",
       "      <td>-0.368034</td>\n",
       "      <td>427Hippo</td>\n",
       "    </tr>\n",
       "    <tr>\n",
       "      <th>6</th>\n",
       "      <td>0.009648</td>\n",
       "      <td>-0.171360</td>\n",
       "      <td>399Carth</td>\n",
       "    </tr>\n",
       "    <tr>\n",
       "      <th>7</th>\n",
       "      <td>4.758533</td>\n",
       "      <td>2.804444</td>\n",
       "      <td>418Thel</td>\n",
       "    </tr>\n",
       "    <tr>\n",
       "      <th>9</th>\n",
       "      <td>0.803120</td>\n",
       "      <td>-0.359919</td>\n",
       "      <td>418Carth</td>\n",
       "    </tr>\n",
       "    <tr>\n",
       "      <th>10</th>\n",
       "      <td>-0.046218</td>\n",
       "      <td>-0.498406</td>\n",
       "      <td>410Carth</td>\n",
       "    </tr>\n",
       "    <tr>\n",
       "      <th>11</th>\n",
       "      <td>0.123040</td>\n",
       "      <td>-0.501624</td>\n",
       "      <td>424Carth</td>\n",
       "    </tr>\n",
       "    <tr>\n",
       "      <th>12</th>\n",
       "      <td>-0.197632</td>\n",
       "      <td>-0.351147</td>\n",
       "      <td>401CarthJun</td>\n",
       "    </tr>\n",
       "    <tr>\n",
       "      <th>13</th>\n",
       "      <td>-0.913614</td>\n",
       "      <td>0.464720</td>\n",
       "      <td>397Carth</td>\n",
       "    </tr>\n",
       "    <tr>\n",
       "      <th>14</th>\n",
       "      <td>-2.960488</td>\n",
       "      <td>4.086450</td>\n",
       "      <td>397Carth2</td>\n",
       "    </tr>\n",
       "    <tr>\n",
       "      <th>15</th>\n",
       "      <td>0.145560</td>\n",
       "      <td>-0.763281</td>\n",
       "      <td>407Carth</td>\n",
       "    </tr>\n",
       "    <tr>\n",
       "      <th>16</th>\n",
       "      <td>-0.254749</td>\n",
       "      <td>-0.469720</td>\n",
       "      <td>404Carth</td>\n",
       "    </tr>\n",
       "    <tr>\n",
       "      <th>17</th>\n",
       "      <td>-0.254389</td>\n",
       "      <td>-0.480664</td>\n",
       "      <td>402Mil</td>\n",
       "    </tr>\n",
       "    <tr>\n",
       "      <th>18</th>\n",
       "      <td>0.123252</td>\n",
       "      <td>-0.317671</td>\n",
       "      <td>408CarthJun</td>\n",
       "    </tr>\n",
       "    <tr>\n",
       "      <th>19</th>\n",
       "      <td>-0.407049</td>\n",
       "      <td>0.138181</td>\n",
       "      <td>390Carth</td>\n",
       "    </tr>\n",
       "    <tr>\n",
       "      <th>20</th>\n",
       "      <td>-0.110596</td>\n",
       "      <td>-0.281944</td>\n",
       "      <td>Carth4</td>\n",
       "    </tr>\n",
       "  </tbody>\n",
       "</table>\n",
       "</div>"
      ],
      "text/plain": [
       "        pca1      pca2      councils\n",
       "0  -0.123220 -0.557616      403Carth\n",
       "1   1.068705 -1.243450      419Carth\n",
       "2  -0.581088  0.101255      393Hippo\n",
       "3  -0.075019 -0.372992   408CarthOct\n",
       "4  -0.898318 -0.640563  401CarthSept\n",
       "5  -0.270999 -0.368034      427Hippo\n",
       "6   0.009648 -0.171360      399Carth\n",
       "7   4.758533  2.804444       418Thel\n",
       "9   0.803120 -0.359919      418Carth\n",
       "10 -0.046218 -0.498406      410Carth\n",
       "11  0.123040 -0.501624      424Carth\n",
       "12 -0.197632 -0.351147   401CarthJun\n",
       "13 -0.913614  0.464720      397Carth\n",
       "14 -2.960488  4.086450     397Carth2\n",
       "15  0.145560 -0.763281      407Carth\n",
       "16 -0.254749 -0.469720      404Carth\n",
       "17 -0.254389 -0.480664        402Mil\n",
       "18  0.123252 -0.317671   408CarthJun\n",
       "19 -0.407049  0.138181      390Carth\n",
       "20 -0.110596 -0.281944        Carth4"
      ]
     },
     "execution_count": 74,
     "metadata": {},
     "output_type": "execute_result"
    }
   ],
   "source": [
    "results"
   ]
  },
  {
   "cell_type": "code",
   "execution_count": null,
   "id": "sweet-rider",
   "metadata": {},
   "outputs": [],
   "source": []
  },
  {
   "cell_type": "code",
   "execution_count": null,
   "id": "automatic-wilson",
   "metadata": {},
   "outputs": [],
   "source": []
  }
 ],
 "metadata": {
  "kernelspec": {
   "display_name": "Python 3",
   "language": "python",
   "name": "python3"
  },
  "language_info": {
   "codemirror_mode": {
    "name": "ipython",
    "version": 3
   },
   "file_extension": ".py",
   "mimetype": "text/x-python",
   "name": "python",
   "nbconvert_exporter": "python",
   "pygments_lexer": "ipython3",
   "version": "3.9.2"
  }
 },
 "nbformat": 4,
 "nbformat_minor": 5
}
