{
 "cells": [
  {
   "cell_type": "code",
   "execution_count": 1,
   "id": "constant-funeral",
   "metadata": {},
   "outputs": [],
   "source": [
    "import pandas as pd"
   ]
  },
  {
   "cell_type": "code",
   "execution_count": 2,
   "id": "computational-bradley",
   "metadata": {},
   "outputs": [],
   "source": [
    "sheet_url = \"https://docs.google.com/spreadsheets/d/1uo_oC3HfWpbV1FDQjrVdNyxgsEzDFs7qV3IUPa9N4kQ/edit#gid=0\"\n",
    "url_1 = sheet_url.replace( '/edit#gid=', '/export?format=csv&gid=')"
   ]
  },
  {
   "cell_type": "code",
   "execution_count": 3,
   "id": "mighty-trade",
   "metadata": {},
   "outputs": [],
   "source": [
    "df = pd.read_csv(url_1)"
   ]
  },
  {
   "cell_type": "code",
   "execution_count": 4,
   "id": "welsh-tsunami",
   "metadata": {},
   "outputs": [
    {
     "data": {
      "text/html": [
       "<div>\n",
       "<style scoped>\n",
       "    .dataframe tbody tr th:only-of-type {\n",
       "        vertical-align: middle;\n",
       "    }\n",
       "\n",
       "    .dataframe tbody tr th {\n",
       "        vertical-align: top;\n",
       "    }\n",
       "\n",
       "    .dataframe thead th {\n",
       "        text-align: right;\n",
       "    }\n",
       "</style>\n",
       "<table border=\"1\" class=\"dataframe\">\n",
       "  <thead>\n",
       "    <tr style=\"text-align: right;\">\n",
       "      <th></th>\n",
       "      <th>419Carth</th>\n",
       "      <th>AdeodatusSimidiccensis</th>\n",
       "    </tr>\n",
       "  </thead>\n",
       "  <tbody>\n",
       "    <tr>\n",
       "      <th>0</th>\n",
       "      <td>418Carth</td>\n",
       "      <td>AemilianusAraditanus</td>\n",
       "    </tr>\n",
       "    <tr>\n",
       "      <th>1</th>\n",
       "      <td>419Carth</td>\n",
       "      <td>AlypiusThagastensis</td>\n",
       "    </tr>\n",
       "    <tr>\n",
       "      <th>2</th>\n",
       "      <td>401CarthSept</td>\n",
       "      <td>AlypiusThagastensis</td>\n",
       "    </tr>\n",
       "    <tr>\n",
       "      <th>3</th>\n",
       "      <td>403Carth</td>\n",
       "      <td>AlypiusThagastensis</td>\n",
       "    </tr>\n",
       "    <tr>\n",
       "      <th>4</th>\n",
       "      <td>418Carth</td>\n",
       "      <td>AlypiusThagastensis</td>\n",
       "    </tr>\n",
       "    <tr>\n",
       "      <th>...</th>\n",
       "      <td>...</td>\n",
       "      <td>...</td>\n",
       "    </tr>\n",
       "    <tr>\n",
       "      <th>210</th>\n",
       "      <td>407Carth</td>\n",
       "      <td>VincentiusCulusitanus</td>\n",
       "    </tr>\n",
       "    <tr>\n",
       "      <th>211</th>\n",
       "      <td>418Carth</td>\n",
       "      <td>VincentiusCulusitanus</td>\n",
       "    </tr>\n",
       "    <tr>\n",
       "      <th>212</th>\n",
       "      <td>397Carth2</td>\n",
       "      <td>VitalisIgnoti</td>\n",
       "    </tr>\n",
       "    <tr>\n",
       "      <th>213</th>\n",
       "      <td>402Mil</td>\n",
       "      <td>XantippusNumidiae</td>\n",
       "    </tr>\n",
       "    <tr>\n",
       "      <th>214</th>\n",
       "      <td>407Carth</td>\n",
       "      <td>XantippusNumidiae</td>\n",
       "    </tr>\n",
       "  </tbody>\n",
       "</table>\n",
       "<p>215 rows × 2 columns</p>\n",
       "</div>"
      ],
      "text/plain": [
       "         419Carth AdeodatusSimidiccensis\n",
       "0        418Carth   AemilianusAraditanus\n",
       "1        419Carth    AlypiusThagastensis\n",
       "2    401CarthSept    AlypiusThagastensis\n",
       "3        403Carth    AlypiusThagastensis\n",
       "4        418Carth    AlypiusThagastensis\n",
       "..            ...                    ...\n",
       "210      407Carth  VincentiusCulusitanus\n",
       "211      418Carth  VincentiusCulusitanus\n",
       "212     397Carth2          VitalisIgnoti\n",
       "213        402Mil      XantippusNumidiae\n",
       "214      407Carth      XantippusNumidiae\n",
       "\n",
       "[215 rows x 2 columns]"
      ]
     },
     "execution_count": 4,
     "metadata": {},
     "output_type": "execute_result"
    }
   ],
   "source": [
    "df"
   ]
  },
  {
   "cell_type": "code",
   "execution_count": null,
   "id": "adjacent-reducing",
   "metadata": {},
   "outputs": [],
   "source": []
  }
 ],
 "metadata": {
  "kernelspec": {
   "display_name": "Python 3",
   "language": "python",
   "name": "python3"
  },
  "language_info": {
   "codemirror_mode": {
    "name": "ipython",
    "version": 3
   },
   "file_extension": ".py",
   "mimetype": "text/x-python",
   "name": "python",
   "nbconvert_exporter": "python",
   "pygments_lexer": "ipython3",
   "version": "3.9.2"
  }
 },
 "nbformat": 4,
 "nbformat_minor": 5
}
